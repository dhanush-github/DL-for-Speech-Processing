{
 "cells": [
  {
   "cell_type": "markdown",
   "metadata": {},
   "source": [
    "### TEAM  10\n",
    "\n",
    " E.VIGNESH (CB.EN.P2DSC21010)\n",
    "\n",
    " N.SAI DHANUSH (CB.EN.P2DSC21016)"
   ]
  },
  {
   "cell_type": "markdown",
   "metadata": {},
   "source": [
    "# QUESTION 1:\n",
    "\n",
    "# PERFORMING MULTI-CLASS CLASSIFICATION FOR VARIOUS SPEECH EMOTIONS. ( USING DEEP LEARNING)"
   ]
  },
  {
   "cell_type": "markdown",
   "metadata": {},
   "source": [
    "## LINK FOR DOWNLOADING DATASET\n",
    "\n",
    "https://drive.google.com/drive/folders/1S3j7CkyGWDpjS6OMSGOL0ka_osKff_Vg?usp=sharing\n",
    "\n"
   ]
  },
  {
   "cell_type": "markdown",
   "metadata": {},
   "source": [
    "### Importing Dependencies"
   ]
  },
  {
   "cell_type": "code",
   "execution_count": 1,
   "metadata": {},
   "outputs": [],
   "source": [
    "import librosa\n",
    "import librosa.display\n",
    "import matplotlib.pyplot as plt"
   ]
  },
  {
   "cell_type": "code",
   "execution_count": 2,
   "metadata": {},
   "outputs": [],
   "source": [
    "my_path = 'C:/Users/voice/RAVDESS-RawData'"
   ]
  },
  {
   "cell_type": "markdown",
   "metadata": {},
   "source": [
    "### File Naming Convention\n",
    "\n",
    "Each of the 1440 files has a unique filename. The filename consists of a 7-part numerical identifier (e.g., 03-01-06-01-02-01-12.wav). These identifiers define the stimulus characteristics:\n",
    "\n",
    "### FileName Identifiers\n",
    "\n",
    "Modality (01 = full-AV, 02 = video-only, 03 = audio-only).\n",
    "\n",
    "Vocal channel (01 = speech, 02 = song).\n",
    "\n",
    "Emotion (01 = neutral, 02 = calm, 03 = happy, 04 = sad, 05 = angry, 06 = fearful, 07 = disgust, 08 = surprised).\n",
    "\n",
    "Emotional intensity (01 = normal, 02 = strong). NOTE: There is no strong intensity for the 'neutral' emotion.\n",
    "\n",
    "Statement (01 = \"Kids are talking by the door\", 02 = \"Dogs are sitting by the door\").\n",
    "\n",
    "Repetition (01 = 1st repetition, 02 = 2nd repetition).\n",
    "\n",
    "Actor (01 to 24. Odd numbered actors are male, even numbered actors are female).\n",
    "\n",
    "\n",
    "### Emotion Labels\n",
    "\n",
    "01 = neutral\n",
    "\n",
    "02 = calm\n",
    "\n",
    "03 = happy\n",
    "\n",
    "04 = sad\n",
    "\n",
    "05 = angry\n",
    "\n",
    "06 = fearful\n",
    "\n",
    "07 = disgust\n",
    "\n",
    "08 = surprised"
   ]
  },
  {
   "cell_type": "code",
   "execution_count": 3,
   "metadata": {},
   "outputs": [
    {
     "name": "stdout",
     "output_type": "stream",
     "text": [
      "this is the len of our data:  1440\n",
      "this is an example of a wave file: 03-01-01-01-02-01-03.wav\n",
      "this index position represents the emotion label: 01\n"
     ]
    }
   ],
   "source": [
    "import os\n",
    "my_data = os.listdir(my_path)\n",
    "print(\"this is the len of our data: \", len(my_data))\n",
    "print(\"this is an example of a wave file:\", my_data[50])\n",
    "print(\"this index position represents the emotion label:\", my_data[50][6:8])"
   ]
  },
  {
   "cell_type": "markdown",
   "metadata": {},
   "source": [
    "### Load audio file and visualize its waveform (using librosa)\n"
   ]
  },
  {
   "cell_type": "code",
   "execution_count": 4,
   "metadata": {},
   "outputs": [],
   "source": [
    "data, sampling_rate = librosa.load(my_path+'/03-01-01-01-02-01-03.wav')"
   ]
  },
  {
   "cell_type": "code",
   "execution_count": 5,
   "metadata": {
    "scrolled": true
   },
   "outputs": [
    {
     "data": {
      "text/plain": [
       "<librosa.display.AdaptiveWaveplot at 0x18d82a3b700>"
      ]
     },
     "execution_count": 5,
     "metadata": {},
     "output_type": "execute_result"
    },
    {
     "data": {
      "image/png": "[encoded data removed]",
      "text/plain": [
       "<Figure size 1080x360 with 1 Axes>"
      ]
     },
     "metadata": {
      "needs_background": "light"
     },
     "output_type": "display_data"
    }
   ],
   "source": [
    "plt.figure(figsize=(15, 5))\n",
    "librosa.display.waveshow(data, sr=sampling_rate)"
   ]
  },
  {
   "cell_type": "code",
   "execution_count": 6,
   "metadata": {},
   "outputs": [
    {
     "name": "stdout",
     "output_type": "stream",
     "text": [
      "Requirement already satisfied: python_speech_features in c:\\users\\lenovo\\anaconda3\\lib\\site-packages (0.6)\n",
      "Note: you may need to restart the kernel to use updated packages.\n"
     ]
    }
   ],
   "source": [
    "pip install python_speech_features"
   ]
  },
  {
   "cell_type": "markdown",
   "metadata": {},
   "source": [
    "### Convert the audio waveform\n",
    "\n",
    "Mel-frequency cepstral coefficients (MFCC) extraction\n",
    "\n",
    "This Function returns:\n",
    "\n",
    "    Features\n",
    "    Labels"
   ]
  },
  {
   "cell_type": "code",
   "execution_count": 7,
   "metadata": {},
   "outputs": [],
   "source": [
    "from python_speech_features import mfcc\n",
    "import scipy.io.wavfile\n",
    "import numpy as np\n",
    "\n",
    "\n",
    "emotions_num = [\"Neutral-01\",\"Calm-02\",\"Happy-03\",\"Sad-04\",\"Angry-05\",\"Fearful-06\",\"Disgust-07\",\"Surprised-08\"]\n",
    "actors = [\"01\",\"02\",\"03\",\"04\",\"05\",\"06\",\"07\",\"08\",\"09\",\"10\",\"11\",\"12\",\n",
    "         \"13\",\"14\",\"15\",\"16\",\"17\",\"18\",\"19\",\"20\",\"21\",\"22\",\"23\",\"24\"]\n",
    "\n",
    "\n",
    "def mfcc_extraction(path, modal_vocal, emotions_num, actors):\n",
    "    labels = []\n",
    "    mfcc_features = []\n",
    "    \n",
    "    #with repetition number: 1 and statement number 1 and emotional intensity number #1\n",
    "    for index1,emotion_num in enumerate(emotions_num):\n",
    "        for index,actor in enumerate(actors):\n",
    "            sig, rate = librosa.load(path+modal_vocal+emotion_num[-2:]+\"-01-01-01-\"+actor+\".wav\", sr=16000)\n",
    "            mfcc_feat = mfcc(sig,rate)\n",
    "            mfcc_features.append(mfcc_feat)\n",
    "            \n",
    "            labels.append(emotion_num[:-3])\n",
    "    \n",
    "    #with repetition number: 1 and statement number 2 and emotional intensity number 1\n",
    "    for index1,emotion_num in enumerate(emotions_num):\n",
    "        for index,actor in enumerate(actors):\n",
    "            sig, rate = librosa.load(path+modal_vocal+emotion_num[-2:]+\"-01-02-01-\"+actor+\".wav\", sr=16000)\n",
    "            mfcc_feat = mfcc(sig,rate)\n",
    "            mfcc_features.append(mfcc_feat)\n",
    "            \n",
    "            labels.append(emotion_num[:-3])\n",
    "            \n",
    "    #with repetition number: 2 and statement number 1 and emotional intensity number #1\n",
    "    for index1,emotion_num in enumerate(emotions_num):\n",
    "        for index,actor in enumerate(actors):\n",
    "            sig, rate = librosa.load(path+modal_vocal+emotion_num[-2:]+\"-01-01-02-\"+actor+\".wav\", sr=16000)\n",
    "            mfcc_feat = mfcc(sig,rate)\n",
    "            mfcc_features.append(mfcc_feat)\n",
    "            \n",
    "            labels.append(emotion_num[:-3])\n",
    "            \n",
    "    #with repetition number: 2 and statement number 2 and emotional intensity number 1\n",
    "    for index1,emotion_num in enumerate(emotions_num):\n",
    "        for index,actor in enumerate(actors):\n",
    "            sig, rate = librosa.load(path+modal_vocal+emotion_num[-2:]+\"-01-02-02-\"+actor+\".wav\", sr=16000)\n",
    "            mfcc_feat = mfcc(sig,rate)\n",
    "            mfcc_features.append(mfcc_feat)\n",
    "            \n",
    "            labels.append(emotion_num[:-3])\n",
    "    \n",
    "    #with repetition number: 1 and statement number 1 and emotional intensity number #2\n",
    "    for index1,emotion_num in enumerate(emotions_num):\n",
    "        for index,actor in enumerate(actors):\n",
    "            if emotion_num != \"Neutral-01\":\n",
    "                sig, rate = librosa.load(path+modal_vocal+emotion_num[-2:]+\"-02-01-01-\"+actor+\".wav\", sr=16000)\n",
    "                mfcc_feat = mfcc(sig,rate)\n",
    "                mfcc_features.append(mfcc_feat)\n",
    "                \n",
    "                labels.append(emotion_num[:-3])\n",
    "    \n",
    "    #with repetition number: 1 and statement number 2 and emotional intensity number 2\n",
    "    for index1,emotion_num in enumerate(emotions_num):\n",
    "        for index,actor in enumerate(actors):\n",
    "            if emotion_num != \"Neutral-01\":\n",
    "                sig, rate = librosa.load(path+modal_vocal+emotion_num[-2:]+\"-02-02-01-\"+actor+\".wav\", sr=16000)\n",
    "                mfcc_feat = mfcc(sig,rate)\n",
    "                mfcc_features.append(mfcc_feat)\n",
    "                \n",
    "                labels.append(emotion_num[:-3])\n",
    "            \n",
    "    #with repetition number: 2 and statement number 1 and emotional intensity number #2\n",
    "    for index1,emotion_num in enumerate(emotions_num):\n",
    "        for index,actor in enumerate(actors):\n",
    "            if emotion_num != \"Neutral-01\":\n",
    "                sig, rate = librosa.load(path+modal_vocal+emotion_num[-2:]+\"-02-01-02-\"+actor+\".wav\", sr=16000)\n",
    "                mfcc_feat = mfcc(sig,rate)\n",
    "                mfcc_features.append(mfcc_feat)\n",
    "                \n",
    "                labels.append(emotion_num[:-3])\n",
    "            \n",
    "    #with repetition number: 2 and statement number 2 and emotional intensity number 2\n",
    "    for index1,emotion_num in enumerate(emotions_num):\n",
    "        for index,actor in enumerate(actors):\n",
    "            if emotion_num != \"Neutral-01\":\n",
    "                sig, rate = librosa.load(path+modal_vocal+emotion_num[-2:]+\"-02-02-02-\"+actor+\".wav\", sr=16000)\n",
    "                mfcc_feat = mfcc(sig,rate)\n",
    "                mfcc_features.append(mfcc_feat)\n",
    "                \n",
    "                labels.append(emotion_num[:-3])      \n",
    "\n",
    "    return mfcc_features, labels"
   ]
  },
  {
   "cell_type": "code",
   "execution_count": 8,
   "metadata": {},
   "outputs": [],
   "source": [
    "mfcc_features_and_labels = mfcc_extraction(my_path,'/03-01-', emotions_num, actors)"
   ]
  },
  {
   "cell_type": "markdown",
   "metadata": {},
   "source": [
    "### In our function we are extracting:\n",
    "2(repetition)\n",
    "\n",
    "2(statement)\n",
    "\n",
    "2(emotional)\n",
    "\n",
    "8(emotions)\n",
    "\n",
    "24(actors)\n",
    "\n",
    "1440 examples"
   ]
  },
  {
   "cell_type": "code",
   "execution_count": 9,
   "metadata": {
    "scrolled": true
   },
   "outputs": [
    {
     "name": "stdout",
     "output_type": "stream",
     "text": [
      "len of examples: 1440\n",
      "len of labels: 1440\n",
      "\n",
      "feature dimension: 2\n",
      "feature shape: (363, 13)\n",
      "\n",
      "[[-2.18306024e+01 -3.20043785e+01  1.63623961e+00 ...  1.51798636e+01\n",
      "  -1.16716009e+01 -2.84455921e+00]\n",
      " [-3.60436534e+01  0.00000000e+00  0.00000000e+00 ...  6.74820084e-14\n",
      "   0.00000000e+00  3.50716881e-14]\n",
      " [-2.31807954e+01 -3.50252179e+01 -1.09309837e+01 ... -5.13416197e+00\n",
      "  -3.13953157e+00 -4.02089669e+00]\n",
      " ...\n",
      " [-2.01205862e+01 -2.97380244e+01 -1.71999899e-01 ...  4.60930548e+00\n",
      "   3.42111213e+00 -1.32853321e+00]\n",
      " [-2.22119191e+01 -3.08699543e+01 -7.99719638e+00 ... -6.17977579e-01\n",
      "   2.82549932e+00 -1.07647800e+01]\n",
      " [-3.60436534e+01  0.00000000e+00  0.00000000e+00 ...  6.74820084e-14\n",
      "   0.00000000e+00  3.50716881e-14]] Neutral\n"
     ]
    }
   ],
   "source": [
    "# exract features and labels from \n",
    "mfcc_features, mfcc_labels = mfcc_features_and_labels\n",
    "print(\"len of examples:\", len(mfcc_features))\n",
    "print(\"len of labels:\", len(mfcc_labels))\n",
    "print()\n",
    "print(\"feature dimension:\", mfcc_features[0].ndim)\n",
    "print(\"feature shape:\", mfcc_features[1].shape)\n",
    "print()\n",
    "mfcc_labels = np.array(mfcc_labels)\n",
    "print(mfcc_features[0],mfcc_labels[0])"
   ]
  },
  {
   "cell_type": "markdown",
   "metadata": {},
   "source": [
    "### Zero Padding Function"
   ]
  },
  {
   "cell_type": "code",
   "execution_count": 10,
   "metadata": {},
   "outputs": [],
   "source": [
    "def zero_pad(features):\n",
    "    \n",
    "    new_spoken_train = []\n",
    "    max_shape = 0\n",
    "    for x in features:\n",
    "        all_shapes = x.shape[0]\n",
    "        if all_shapes > max_shape:\n",
    "            max_shape = all_shapes\n",
    "\n",
    "    for x in features:\n",
    "        difference = max_shape-x.shape[0]\n",
    "        zero_padded = np.pad(x,((0,difference),(0,0)), \"constant\")\n",
    "        new_spoken_train.append(zero_padded)\n",
    "\n",
    "    new_spoken_train = np.array(new_spoken_train)\n",
    "    \n",
    "    return new_spoken_train\n",
    "\n",
    "mfcc_features = zero_pad(mfcc_features)"
   ]
  },
  {
   "cell_type": "code",
   "execution_count": 11,
   "metadata": {},
   "outputs": [
    {
     "name": "stdout",
     "output_type": "stream",
     "text": [
      "(1440, 526, 13)\n",
      "6838\n"
     ]
    }
   ],
   "source": [
    "print(mfcc_features.shape)\n",
    "print(526*13)"
   ]
  },
  {
   "cell_type": "markdown",
   "metadata": {},
   "source": [
    "### Flatteing MFCC Features\n"
   ]
  },
  {
   "cell_type": "code",
   "execution_count": 12,
   "metadata": {},
   "outputs": [
    {
     "name": "stdout",
     "output_type": "stream",
     "text": [
      "(1440, 6838)\n"
     ]
    }
   ],
   "source": [
    "flatten_mfcc_features = np.reshape(mfcc_features,(mfcc_features.shape[0],6838))\n",
    "print(flatten_mfcc_features.shape)"
   ]
  },
  {
   "cell_type": "markdown",
   "metadata": {},
   "source": [
    "### Standardization"
   ]
  },
  {
   "cell_type": "code",
   "execution_count": 13,
   "metadata": {},
   "outputs": [],
   "source": [
    "from sklearn.preprocessing import StandardScaler\n",
    "\n",
    "data = flatten_mfcc_features\n",
    "scaler = StandardScaler()\n",
    "mfcc_features = scaler.fit_transform(data)"
   ]
  },
  {
   "cell_type": "markdown",
   "metadata": {},
   "source": [
    "### Oversample \"NEUTRAL\" (EMOTION) in order to match our dataset"
   ]
  },
  {
   "cell_type": "code",
   "execution_count": 14,
   "metadata": {},
   "outputs": [
    {
     "name": "stdout",
     "output_type": "stream",
     "text": [
      "{'Neutral': 96, 'Calm': 192, 'Happy': 192, 'Sad': 192, 'Angry': 192, 'Fearful': 192, 'Disgust': 192, 'Surprised': 192}\n"
     ]
    }
   ],
   "source": [
    "dictionary = {}\n",
    "for i in mfcc_labels:\n",
    "    dictionary[i] = dictionary.get(i,0) + 1\n",
    "\n",
    "print(dictionary)"
   ]
  },
  {
   "cell_type": "code",
   "execution_count": 15,
   "metadata": {
    "scrolled": true
   },
   "outputs": [
    {
     "name": "stdout",
     "output_type": "stream",
     "text": [
      "{'Neutral': 192, 'Calm': 192, 'Happy': 192, 'Sad': 192, 'Angry': 192, 'Fearful': 192, 'Disgust': 192, 'Surprised': 192}\n"
     ]
    }
   ],
   "source": [
    "from imblearn.over_sampling import RandomOverSampler\n",
    "ros = RandomOverSampler(random_state=42)\n",
    "new_mfcc_features,  mfcc_labels = ros.fit_resample(mfcc_features,  mfcc_labels)\n",
    "\n",
    "dictionary_2 = {}\n",
    "for i in mfcc_labels:\n",
    "    dictionary_2[i] = dictionary_2.get(i,0) + 1\n",
    "\n",
    "print(dictionary_2)"
   ]
  },
  {
   "cell_type": "markdown",
   "metadata": {},
   "source": [
    "### Reshape back MFCC Features"
   ]
  },
  {
   "cell_type": "code",
   "execution_count": 16,
   "metadata": {},
   "outputs": [],
   "source": [
    "new_mfcc_features = np.reshape(new_mfcc_features,(new_mfcc_features.shape[0],526, 13))"
   ]
  },
  {
   "cell_type": "code",
   "execution_count": 17,
   "metadata": {},
   "outputs": [
    {
     "data": {
      "text/plain": [
       "(1536, 526, 13)"
      ]
     },
     "execution_count": 17,
     "metadata": {},
     "output_type": "execute_result"
    }
   ],
   "source": [
    "new_mfcc_features.shape\n"
   ]
  },
  {
   "cell_type": "markdown",
   "metadata": {},
   "source": [
    "### Train-Test Split"
   ]
  },
  {
   "cell_type": "code",
   "execution_count": 18,
   "metadata": {},
   "outputs": [],
   "source": [
    "from sklearn.model_selection import train_test_split\n",
    "X_train, X_test, y_train, y_test = train_test_split(new_mfcc_features, mfcc_labels, test_size=0.30, \n",
    "                                                    random_state=42, stratify = mfcc_labels, shuffle= True)"
   ]
  },
  {
   "cell_type": "markdown",
   "metadata": {},
   "source": [
    "### One-Hot Encoding of Labels"
   ]
  },
  {
   "cell_type": "code",
   "execution_count": 19,
   "metadata": {},
   "outputs": [
    {
     "name": "stdout",
     "output_type": "stream",
     "text": [
      "(1075, 8)\n"
     ]
    }
   ],
   "source": [
    "from numpy import array\n",
    "from numpy import argmax\n",
    "from sklearn.preprocessing import LabelEncoder\n",
    "from sklearn.preprocessing import OneHotEncoder\n",
    "\n",
    "# define example\n",
    "y_train = y_train\n",
    "y_train_values = array(y_train)\n",
    "# integer encode\n",
    "y_train_label_encoder = LabelEncoder()\n",
    "y_train_integer_encoded = y_train_label_encoder.fit_transform(y_train_values)\n",
    "# binary encode\n",
    "y_train_onehot_encoder = OneHotEncoder(sparse=False)\n",
    "y_train_integer_encoded = y_train_integer_encoded.reshape(len(y_train_integer_encoded), 1)\n",
    "y_train_onehot_encoded = y_train_onehot_encoder.fit_transform(y_train_integer_encoded)\n",
    "print(y_train_onehot_encoded.shape)"
   ]
  },
  {
   "cell_type": "code",
   "execution_count": 20,
   "metadata": {},
   "outputs": [
    {
     "name": "stdout",
     "output_type": "stream",
     "text": [
      "(461, 8)\n"
     ]
    }
   ],
   "source": [
    "# define example\n",
    "y_test = y_test\n",
    "y_test_values = array(y_test)\n",
    "# integer encode\n",
    "y_test_label_encoder = LabelEncoder()\n",
    "y_test_integer_encoded = y_test_label_encoder.fit_transform(y_test_values)\n",
    "# binary encode\n",
    "y_test_onehot_encoder = OneHotEncoder(sparse=False)\n",
    "y_test_integer_encoded = y_test_integer_encoded.reshape(len(y_test_integer_encoded), 1)\n",
    "y_test_onehot_encoded = y_test_onehot_encoder.fit_transform(y_test_integer_encoded)\n",
    "print(y_test_onehot_encoded.shape)"
   ]
  },
  {
   "cell_type": "code",
   "execution_count": 21,
   "metadata": {},
   "outputs": [
    {
     "name": "stdout",
     "output_type": "stream",
     "text": [
      "(1075, 526, 13)\n",
      "(1075, 8)\n",
      "(461, 526, 13)\n",
      "(461, 8)\n"
     ]
    }
   ],
   "source": [
    "print(X_train.shape)\n",
    "print(y_train_onehot_encoded.shape)\n",
    "print(X_test.shape)\n",
    "print(y_test_onehot_encoded.shape)"
   ]
  },
  {
   "cell_type": "code",
   "execution_count": 22,
   "metadata": {},
   "outputs": [
    {
     "name": "stdout",
     "output_type": "stream",
     "text": [
      "Requirement already satisfied: keras in c:\\users\\lenovo\\anaconda3\\lib\\site-packages (2.9.0)\n",
      "Note: you may need to restart the kernel to use updated packages.\n"
     ]
    }
   ],
   "source": [
    "pip install keras"
   ]
  },
  {
   "cell_type": "code",
   "execution_count": 23,
   "metadata": {
    "scrolled": true
   },
   "outputs": [
    {
     "name": "stdout",
     "output_type": "stream",
     "text": [
      "Collecting tensorflow\n",
      "  Downloading tensorflow-2.9.1-cp38-cp38-win_amd64.whl (444.1 MB)\n",
      "Requirement already satisfied: h5py>=2.9.0 in c:\\users\\lenovo\\anaconda3\\lib\\site-packages (from tensorflow) (2.10.0)\n",
      "Requirement already satisfied: setuptools in c:\\users\\lenovo\\anaconda3\\lib\\site-packages (from tensorflow) (52.0.0.post20210125)\n",
      "Requirement already satisfied: packaging in c:\\users\\lenovo\\anaconda3\\lib\\site-packages (from tensorflow) (20.9)\n",
      "Requirement already satisfied: six>=1.12.0 in c:\\users\\lenovo\\anaconda3\\lib\\site-packages (from tensorflow) (1.15.0)\n",
      "Collecting gast<=0.4.0,>=0.2.1\n",
      "  Using cached gast-0.4.0-py3-none-any.whl (9.8 kB)\n",
      "Collecting libclang>=13.0.0\n",
      "  Using cached libclang-14.0.1-py2.py3-none-win_amd64.whl (14.2 MB)\n",
      "Collecting astunparse>=1.6.0\n",
      "  Using cached astunparse-1.6.3-py2.py3-none-any.whl (12 kB)\n",
      "Collecting protobuf<3.20,>=3.9.2\n",
      "  Using cached protobuf-3.19.4-cp38-cp38-win_amd64.whl (895 kB)\n",
      "Collecting google-pasta>=0.1.1\n",
      "  Using cached google_pasta-0.2.0-py3-none-any.whl (57 kB)\n",
      "Collecting keras-preprocessing>=1.1.1\n",
      "  Using cached Keras_Preprocessing-1.1.2-py2.py3-none-any.whl (42 kB)\n",
      "Collecting tensorboard<2.10,>=2.9\n",
      "  Using cached tensorboard-2.9.1-py3-none-any.whl (5.8 MB)\n",
      "Collecting grpcio<2.0,>=1.24.3\n",
      "  Using cached grpcio-1.46.3-cp38-cp38-win_amd64.whl (3.5 MB)\n",
      "Requirement already satisfied: numpy>=1.20 in c:\\users\\lenovo\\anaconda3\\lib\\site-packages (from tensorflow) (1.20.1)\n",
      "Collecting opt-einsum>=2.3.2\n",
      "  Using cached opt_einsum-3.3.0-py3-none-any.whl (65 kB)\n",
      "Requirement already satisfied: keras<2.10.0,>=2.9.0rc0 in c:\\users\\lenovo\\anaconda3\\lib\\site-packages (from tensorflow) (2.9.0)\n",
      "Collecting termcolor>=1.1.0\n",
      "  Using cached termcolor-1.1.0-py3-none-any.whl\n",
      "Collecting absl-py>=1.0.0\n",
      "  Using cached absl_py-1.1.0-py3-none-any.whl (123 kB)\n",
      "Collecting tensorflow-estimator<2.10.0,>=2.9.0rc0\n",
      "  Using cached tensorflow_estimator-2.9.0-py2.py3-none-any.whl (438 kB)\n",
      "Requirement already satisfied: wrapt>=1.11.0 in c:\\users\\lenovo\\anaconda3\\lib\\site-packages (from tensorflow) (1.12.1)\n",
      "Requirement already satisfied: typing-extensions>=3.6.6 in c:\\users\\lenovo\\anaconda3\\lib\\site-packages (from tensorflow) (3.7.4.3)\n",
      "Collecting tensorflow-io-gcs-filesystem>=0.23.1\n",
      "  Using cached tensorflow_io_gcs_filesystem-0.26.0-cp38-cp38-win_amd64.whl (1.5 MB)\n",
      "Collecting flatbuffers<2,>=1.12\n",
      "  Using cached flatbuffers-1.12-py2.py3-none-any.whl (15 kB)\n",
      "Requirement already satisfied: wheel<1.0,>=0.23.0 in c:\\users\\lenovo\\anaconda3\\lib\\site-packages (from astunparse>=1.6.0->tensorflow) (0.36.2)\n",
      "Requirement already satisfied: werkzeug>=1.0.1 in c:\\users\\lenovo\\anaconda3\\lib\\site-packages (from tensorboard<2.10,>=2.9->tensorflow) (1.0.1)\n",
      "Requirement already satisfied: requests<3,>=2.21.0 in c:\\users\\lenovo\\anaconda3\\lib\\site-packages (from tensorboard<2.10,>=2.9->tensorflow) (2.25.1)\n",
      "Collecting tensorboard-plugin-wit>=1.6.0\n",
      "  Using cached tensorboard_plugin_wit-1.8.1-py3-none-any.whl (781 kB)\n",
      "Collecting google-auth-oauthlib<0.5,>=0.4.1\n",
      "  Using cached google_auth_oauthlib-0.4.6-py2.py3-none-any.whl (18 kB)\n",
      "Collecting tensorboard-data-server<0.7.0,>=0.6.0\n",
      "  Using cached tensorboard_data_server-0.6.1-py3-none-any.whl (2.4 kB)\n",
      "Collecting google-auth<3,>=1.6.3\n",
      "  Using cached google_auth-2.7.0-py2.py3-none-any.whl (160 kB)\n",
      "Collecting markdown>=2.6.8\n",
      "  Using cached Markdown-3.3.7-py3-none-any.whl (97 kB)\n",
      "Collecting rsa<5,>=3.1.4\n",
      "  Using cached rsa-4.8-py3-none-any.whl (39 kB)\n",
      "Collecting cachetools<6.0,>=2.0.0\n",
      "  Using cached cachetools-5.2.0-py3-none-any.whl (9.3 kB)\n",
      "Collecting pyasn1-modules>=0.2.1\n",
      "  Using cached pyasn1_modules-0.2.8-py2.py3-none-any.whl (155 kB)\n",
      "Collecting requests-oauthlib>=0.7.0\n",
      "  Using cached requests_oauthlib-1.3.1-py2.py3-none-any.whl (23 kB)\n",
      "Collecting importlib-metadata>=4.4\n",
      "  Using cached importlib_metadata-4.11.4-py3-none-any.whl (18 kB)\n",
      "Requirement already satisfied: zipp>=0.5 in c:\\users\\lenovo\\anaconda3\\lib\\site-packages (from importlib-metadata>=4.4->markdown>=2.6.8->tensorboard<2.10,>=2.9->tensorflow) (3.4.1)\n",
      "Collecting pyasn1<0.5.0,>=0.4.6\n",
      "  Using cached pyasn1-0.4.8-py2.py3-none-any.whl (77 kB)\n",
      "Requirement already satisfied: chardet<5,>=3.0.2 in c:\\users\\lenovo\\anaconda3\\lib\\site-packages (from requests<3,>=2.21.0->tensorboard<2.10,>=2.9->tensorflow) (4.0.0)\n",
      "Requirement already satisfied: idna<3,>=2.5 in c:\\users\\lenovo\\anaconda3\\lib\\site-packages (from requests<3,>=2.21.0->tensorboard<2.10,>=2.9->tensorflow) (2.10)\n",
      "Requirement already satisfied: certifi>=2017.4.17 in c:\\users\\lenovo\\anaconda3\\lib\\site-packages (from requests<3,>=2.21.0->tensorboard<2.10,>=2.9->tensorflow) (2020.12.5)\n",
      "Requirement already satisfied: urllib3<1.27,>=1.21.1 in c:\\users\\lenovo\\anaconda3\\lib\\site-packages (from requests<3,>=2.21.0->tensorboard<2.10,>=2.9->tensorflow) (1.26.4)\n",
      "Collecting oauthlib>=3.0.0\n",
      "  Using cached oauthlib-3.2.0-py3-none-any.whl (151 kB)\n",
      "Requirement already satisfied: pyparsing>=2.0.2 in c:\\users\\lenovo\\anaconda3\\lib\\site-packages (from packaging->tensorflow) (2.4.7)\n",
      "Installing collected packages: pyasn1, rsa, pyasn1-modules, oauthlib, cachetools, requests-oauthlib, importlib-metadata, google-auth, tensorboard-plugin-wit, tensorboard-data-server, protobuf, markdown, grpcio, google-auth-oauthlib, absl-py, termcolor, tensorflow-io-gcs-filesystem, tensorflow-estimator, tensorboard, opt-einsum, libclang, keras-preprocessing, google-pasta, gast, flatbuffers, astunparse, tensorflow\n",
      "  Attempting uninstall: importlib-metadata\n",
      "    Found existing installation: importlib-metadata 3.10.0\n",
      "    Can't uninstall 'importlib-metadata'. No files were found to uninstall.\n",
      "Successfully installed absl-py-1.1.0 astunparse-1.6.3 cachetools-5.2.0 flatbuffers-1.12 gast-0.4.0 google-auth-2.7.0 google-auth-oauthlib-0.4.6 google-pasta-0.2.0 grpcio-1.46.3 importlib-metadata-4.11.4 keras-preprocessing-1.1.2 libclang-14.0.1 markdown-3.3.7 oauthlib-3.2.0 opt-einsum-3.3.0 protobuf-3.19.4 pyasn1-0.4.8 pyasn1-modules-0.2.8 requests-oauthlib-1.3.1 rsa-4.8 tensorboard-2.9.1 tensorboard-data-server-0.6.1 tensorboard-plugin-wit-1.8.1 tensorflow-2.9.1 tensorflow-estimator-2.9.0 tensorflow-io-gcs-filesystem-0.26.0 termcolor-1.1.0\n",
      "Note: you may need to restart the kernel to use updated packages.\n"
     ]
    },
    {
     "name": "stderr",
     "output_type": "stream",
     "text": [
      "WARNING: Error parsing requirements for importlib-metadata: [Errno 2] No such file or directory: 'c:\\\\users\\\\lenovo\\\\anaconda3\\\\lib\\\\site-packages\\\\importlib_metadata-3.10.0.dist-info\\\\METADATA'\n"
     ]
    }
   ],
   "source": [
    "pip install tensorflow"
   ]
  },
  {
   "cell_type": "markdown",
   "metadata": {},
   "source": [
    "### CONVOLUTIONAL NEURAL NETWORKS"
   ]
  },
  {
   "cell_type": "code",
   "execution_count": 24,
   "metadata": {},
   "outputs": [],
   "source": [
    "from tensorflow import keras\n",
    "from keras.models import Sequential\n",
    "from keras.layers import Dense, Embedding\n",
    "from keras.layers import Input, Flatten, Dropout, Activation\n",
    "from keras.layers import Conv1D, MaxPooling1D\n",
    "from keras.models import Model\n",
    "from keras.callbacks import ModelCheckpoint\n",
    "\n",
    "len_of_labels = len(y_train_onehot_encoded[0])\n",
    "model = Sequential()\n",
    "\n",
    "model.add(Conv1D(128, 4, padding='same', input_shape=(X_train.shape[1],X_train.shape[2])))\n",
    "model.add(Activation('relu'))\n",
    "model.add(MaxPooling1D(pool_size=(2)))\n",
    "model.add(Conv1D(128, 4, padding='same',))\n",
    "model.add(Activation('relu'))\n",
    "model.add(Dropout(0.4))\n",
    "model.add(MaxPooling1D(pool_size=(2)))\n",
    "model.add(Conv1D(128, 4, padding='same',))\n",
    "model.add(Activation('relu'))\n",
    "model.add(Dropout(0.4))\n",
    "model.add(MaxPooling1D(pool_size=(2)))\n",
    "model.add(Dropout(0.4))\n",
    "model.add(Flatten())\n",
    "model.add(Dense(len_of_labels))\n",
    "model.add(Activation('softmax'))"
   ]
  },
  {
   "cell_type": "code",
   "execution_count": 25,
   "metadata": {
    "scrolled": false
   },
   "outputs": [
    {
     "name": "stdout",
     "output_type": "stream",
     "text": [
      "Model: \"sequential\"\n",
      "_________________________________________________________________\n",
      " Layer (type)                Output Shape              Param #   \n",
      "=================================================================\n",
      " conv1d (Conv1D)             (None, 526, 128)          6784      \n",
      "                                                                 \n",
      " activation (Activation)     (None, 526, 128)          0         \n",
      "                                                                 \n",
      " max_pooling1d (MaxPooling1D  (None, 263, 128)         0         \n",
      " )                                                               \n",
      "                                                                 \n",
      " conv1d_1 (Conv1D)           (None, 263, 128)          65664     \n",
      "                                                                 \n",
      " activation_1 (Activation)   (None, 263, 128)          0         \n",
      "                                                                 \n",
      " dropout (Dropout)           (None, 263, 128)          0         \n",
      "                                                                 \n",
      " max_pooling1d_1 (MaxPooling  (None, 131, 128)         0         \n",
      " 1D)                                                             \n",
      "                                                                 \n",
      " conv1d_2 (Conv1D)           (None, 131, 128)          65664     \n",
      "                                                                 \n",
      " activation_2 (Activation)   (None, 131, 128)          0         \n",
      "                                                                 \n",
      " dropout_1 (Dropout)         (None, 131, 128)          0         \n",
      "                                                                 \n",
      " max_pooling1d_2 (MaxPooling  (None, 65, 128)          0         \n",
      " 1D)                                                             \n",
      "                                                                 \n",
      " dropout_2 (Dropout)         (None, 65, 128)           0         \n",
      "                                                                 \n",
      " flatten (Flatten)           (None, 8320)              0         \n",
      "                                                                 \n",
      " dense (Dense)               (None, 8)                 66568     \n",
      "                                                                 \n",
      " activation_3 (Activation)   (None, 8)                 0         \n",
      "                                                                 \n",
      "=================================================================\n",
      "Total params: 204,680\n",
      "Trainable params: 204,680\n",
      "Non-trainable params: 0\n",
      "_________________________________________________________________\n"
     ]
    }
   ],
   "source": [
    "model.summary()"
   ]
  },
  {
   "cell_type": "markdown",
   "metadata": {},
   "source": [
    "### COMPILE MODEL"
   ]
  },
  {
   "cell_type": "code",
   "execution_count": 26,
   "metadata": {},
   "outputs": [
    {
     "name": "stdout",
     "output_type": "stream",
     "text": [
      "Epoch 1/40\n"
     ]
    },
    {
     "name": "stderr",
     "output_type": "stream",
     "text": [
      "C:\\Users\\Lenovo\\anaconda3\\lib\\site-packages\\keras\\optimizers\\optimizer_v2\\rmsprop.py:135: UserWarning: The `lr` argument is deprecated, use `learning_rate` instead.\n",
      "  super(RMSprop, self).__init__(name, **kwargs)\n"
     ]
    },
    {
     "name": "stdout",
     "output_type": "stream",
     "text": [
      "17/17 [==============================] - 3s 131ms/step - loss: 2.1571 - accuracy: 0.2400 - val_loss: 1.8202 - val_accuracy: 0.2842\n",
      "Epoch 2/40\n",
      "17/17 [==============================] - 2s 107ms/step - loss: 1.6317 - accuracy: 0.3860 - val_loss: 1.6279 - val_accuracy: 0.4230\n",
      "Epoch 3/40\n",
      "17/17 [==============================] - 2s 107ms/step - loss: 1.4550 - accuracy: 0.4716 - val_loss: 1.4974 - val_accuracy: 0.4859\n",
      "Epoch 4/40\n",
      "17/17 [==============================] - 2s 114ms/step - loss: 1.2181 - accuracy: 0.5535 - val_loss: 1.3716 - val_accuracy: 0.5380\n",
      "Epoch 5/40\n",
      "17/17 [==============================] - 2s 114ms/step - loss: 1.0509 - accuracy: 0.6251 - val_loss: 1.3277 - val_accuracy: 0.5445\n",
      "Epoch 6/40\n",
      "17/17 [==============================] - 2s 112ms/step - loss: 0.9380 - accuracy: 0.6577 - val_loss: 1.2548 - val_accuracy: 0.5553\n",
      "Epoch 7/40\n",
      "17/17 [==============================] - 2s 112ms/step - loss: 0.8035 - accuracy: 0.7107 - val_loss: 1.1730 - val_accuracy: 0.6464\n",
      "Epoch 8/40\n",
      "17/17 [==============================] - 2s 107ms/step - loss: 0.6606 - accuracy: 0.7823 - val_loss: 1.1915 - val_accuracy: 0.5900\n",
      "Epoch 9/40\n",
      "17/17 [==============================] - 2s 106ms/step - loss: 0.5912 - accuracy: 0.7898 - val_loss: 1.1028 - val_accuracy: 0.6182\n",
      "Epoch 10/40\n",
      "17/17 [==============================] - 2s 116ms/step - loss: 0.5367 - accuracy: 0.8214 - val_loss: 1.0607 - val_accuracy: 0.6551\n",
      "Epoch 11/40\n",
      "17/17 [==============================] - 2s 113ms/step - loss: 0.4590 - accuracy: 0.8512 - val_loss: 1.1251 - val_accuracy: 0.6269\n",
      "Epoch 12/40\n",
      "17/17 [==============================] - 2s 110ms/step - loss: 0.3531 - accuracy: 0.8828 - val_loss: 1.1343 - val_accuracy: 0.5944\n",
      "Epoch 13/40\n",
      "17/17 [==============================] - 2s 111ms/step - loss: 0.3744 - accuracy: 0.8753 - val_loss: 1.0529 - val_accuracy: 0.6551\n",
      "Epoch 14/40\n",
      "17/17 [==============================] - 2s 111ms/step - loss: 0.3029 - accuracy: 0.9098 - val_loss: 1.0211 - val_accuracy: 0.6421\n",
      "Epoch 15/40\n",
      "17/17 [==============================] - 2s 111ms/step - loss: 0.2283 - accuracy: 0.9247 - val_loss: 1.0539 - val_accuracy: 0.6616\n",
      "Epoch 16/40\n",
      "17/17 [==============================] - 2s 108ms/step - loss: 0.2552 - accuracy: 0.9153 - val_loss: 1.1164 - val_accuracy: 0.6117\n",
      "Epoch 17/40\n",
      "17/17 [==============================] - 2s 106ms/step - loss: 0.1592 - accuracy: 0.9498 - val_loss: 1.0717 - val_accuracy: 0.6529\n",
      "Epoch 18/40\n",
      "17/17 [==============================] - 2s 108ms/step - loss: 0.2437 - accuracy: 0.9265 - val_loss: 1.0257 - val_accuracy: 0.6421\n",
      "Epoch 19/40\n",
      "17/17 [==============================] - 2s 107ms/step - loss: 0.1499 - accuracy: 0.9507 - val_loss: 1.0382 - val_accuracy: 0.6681\n",
      "Epoch 20/40\n",
      "17/17 [==============================] - 2s 126ms/step - loss: 0.1222 - accuracy: 0.9535 - val_loss: 1.0939 - val_accuracy: 0.6790\n",
      "Epoch 21/40\n",
      "17/17 [==============================] - 2s 128ms/step - loss: 0.1135 - accuracy: 0.9591 - val_loss: 1.0677 - val_accuracy: 0.6725\n",
      "Epoch 22/40\n",
      "17/17 [==============================] - 2s 130ms/step - loss: 0.1039 - accuracy: 0.9600 - val_loss: 0.9708 - val_accuracy: 0.6985\n",
      "Epoch 23/40\n",
      "17/17 [==============================] - 2s 131ms/step - loss: 0.1575 - accuracy: 0.9470 - val_loss: 0.9742 - val_accuracy: 0.6811\n",
      "Epoch 24/40\n",
      "17/17 [==============================] - 2s 128ms/step - loss: 0.1046 - accuracy: 0.9656 - val_loss: 1.0734 - val_accuracy: 0.6725\n",
      "Epoch 25/40\n",
      "17/17 [==============================] - 2s 123ms/step - loss: 0.1284 - accuracy: 0.9572 - val_loss: 1.1354 - val_accuracy: 0.6464\n",
      "Epoch 26/40\n",
      "17/17 [==============================] - 2s 125ms/step - loss: 0.1009 - accuracy: 0.9600 - val_loss: 1.0481 - val_accuracy: 0.6920\n",
      "Epoch 27/40\n",
      "17/17 [==============================] - 2s 120ms/step - loss: 0.1053 - accuracy: 0.9693 - val_loss: 1.2510 - val_accuracy: 0.6551\n",
      "Epoch 28/40\n",
      "17/17 [==============================] - 2s 124ms/step - loss: 0.0982 - accuracy: 0.9684 - val_loss: 1.1726 - val_accuracy: 0.6659\n",
      "Epoch 29/40\n",
      "17/17 [==============================] - 2s 128ms/step - loss: 0.0982 - accuracy: 0.9684 - val_loss: 1.0480 - val_accuracy: 0.7007\n",
      "Epoch 30/40\n",
      "17/17 [==============================] - 2s 120ms/step - loss: 0.0794 - accuracy: 0.9786 - val_loss: 1.0430 - val_accuracy: 0.7093\n",
      "Epoch 31/40\n",
      "17/17 [==============================] - 2s 123ms/step - loss: 0.0936 - accuracy: 0.9619 - val_loss: 1.0810 - val_accuracy: 0.6898\n",
      "Epoch 32/40\n",
      "17/17 [==============================] - 2s 126ms/step - loss: 0.0658 - accuracy: 0.9758 - val_loss: 1.0828 - val_accuracy: 0.6963\n",
      "Epoch 33/40\n",
      "17/17 [==============================] - 2s 128ms/step - loss: 0.0524 - accuracy: 0.9833 - val_loss: 1.2446 - val_accuracy: 0.6529\n",
      "Epoch 34/40\n",
      "17/17 [==============================] - 2s 121ms/step - loss: 0.0707 - accuracy: 0.9758 - val_loss: 1.2248 - val_accuracy: 0.6725\n",
      "Epoch 35/40\n",
      "17/17 [==============================] - 2s 120ms/step - loss: 0.0844 - accuracy: 0.9693 - val_loss: 1.1872 - val_accuracy: 0.7007\n",
      "Epoch 36/40\n",
      "17/17 [==============================] - 2s 123ms/step - loss: 0.0421 - accuracy: 0.9879 - val_loss: 1.1929 - val_accuracy: 0.6876\n",
      "Epoch 37/40\n",
      "17/17 [==============================] - 2s 122ms/step - loss: 0.0776 - accuracy: 0.9786 - val_loss: 1.1534 - val_accuracy: 0.6985\n",
      "Epoch 38/40\n",
      "17/17 [==============================] - 2s 120ms/step - loss: 0.0592 - accuracy: 0.9767 - val_loss: 1.2128 - val_accuracy: 0.6963\n",
      "Epoch 39/40\n",
      "17/17 [==============================] - 2s 120ms/step - loss: 0.0693 - accuracy: 0.9749 - val_loss: 1.1692 - val_accuracy: 0.7115\n",
      "Epoch 40/40\n",
      "17/17 [==============================] - 2s 130ms/step - loss: 0.0383 - accuracy: 0.9805 - val_loss: 1.2760 - val_accuracy: 0.7223\n"
     ]
    }
   ],
   "source": [
    "from keras.optimizers import RMSprop\n",
    "\n",
    "model.compile(loss= \"categorical_crossentropy\",\n",
    "              optimizer= RMSprop(lr=0.001),\n",
    "              metrics=['accuracy'])\n",
    "\n",
    "cnnhistory= model.fit(X_train, y_train_onehot_encoded,batch_size= 64, epochs= 40,validation_data=(X_test, y_test_onehot_encoded))"
   ]
  },
  {
   "cell_type": "code",
   "execution_count": 27,
   "metadata": {},
   "outputs": [
    {
     "name": "stdout",
     "output_type": "stream",
     "text": [
      "15/15 [==============================] - 0s 11ms/step - loss: 1.2760 - accuracy: 0.7223\n",
      "validation accuracy: 0.7223427295684814\n"
     ]
    }
   ],
   "source": [
    "result = model.evaluate(X_test, y_test_onehot_encoded)\n",
    "print(\"validation accuracy:\", result[1])"
   ]
  },
  {
   "cell_type": "markdown",
   "metadata": {},
   "source": [
    "### PLOTTING LOSS & ACCURACY"
   ]
  },
  {
   "cell_type": "code",
   "execution_count": 28,
   "metadata": {},
   "outputs": [
    {
     "data": {
      "image/png": "[encoded data removed]",
      "text/plain": [
       "<Figure size 432x288 with 1 Axes>"
      ]
     },
     "metadata": {
      "needs_background": "light"
     },
     "output_type": "display_data"
    }
   ],
   "source": [
    "plt.plot(cnnhistory.history['loss'])\n",
    "plt.plot(cnnhistory.history['val_loss'])\n",
    "plt.title('model loss')\n",
    "plt.ylabel('loss')\n",
    "plt.xlabel('epoch')\n",
    "plt.legend(['train', 'test'], loc='upper left')\n",
    "plt.show()"
   ]
  },
  {
   "cell_type": "code",
   "execution_count": 29,
   "metadata": {},
   "outputs": [
    {
     "data": {
      "image/png": "[encoded data removed]",
      "text/plain": [
       "<Figure size 432x288 with 1 Axes>"
      ]
     },
     "metadata": {
      "needs_background": "light"
     },
     "output_type": "display_data"
    }
   ],
   "source": [
    "plt.plot(cnnhistory.history['accuracy'])\n",
    "plt.plot(cnnhistory.history['val_accuracy'])\n",
    "plt.title('model accuracy')\n",
    "plt.ylabel('acc')\n",
    "plt.xlabel('epoch')\n",
    "plt.legend(['train', 'test'], loc='upper left')\n",
    "plt.show()"
   ]
  },
  {
   "cell_type": "code",
   "execution_count": null,
   "metadata": {},
   "outputs": [],
   "source": []
  }
 ],
 "metadata": {
  "kernelspec": {
   "display_name": "Python 3",
   "language": "python",
   "name": "python3"
  },
  "language_info": {
   "codemirror_mode": {
    "name": "ipython",
    "version": 3
   },
   "file_extension": ".py",
   "mimetype": "text/x-python",
   "name": "python",
   "nbconvert_exporter": "python",
   "pygments_lexer": "ipython3",
   "version": "3.8.5"
  }
 },
 "nbformat": 4,
 "nbformat_minor": 5
}
