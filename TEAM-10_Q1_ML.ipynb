{
 "cells": [
  {
   "cell_type": "markdown",
   "metadata": {},
   "source": [
    "### TEAM  10\n",
    "\n",
    " E.VIGNESH (CB.EN.P2DSC21010)\n",
    "\n",
    " N.SAI DHANUSH (CB.EN.P2DSC21016)"
   ]
  },
  {
   "cell_type": "markdown",
   "metadata": {},
   "source": [
    "# QUESTION 1:\n",
    "\n",
    "# PERFORMING MULTI-CLASS CLASSIFICATION FOR VARIOUS SPEECH EMOTIONS. ( USING MACHINE LEARNING)"
   ]
  },
  {
   "cell_type": "markdown",
   "metadata": {},
   "source": [
    "## LINK FOR DOWNLOADING DATASET\n",
    "\n",
    "https://drive.google.com/drive/folders/1S3j7CkyGWDpjS6OMSGOL0ka_osKff_Vg?usp=sharing"
   ]
  },
  {
   "cell_type": "markdown",
   "metadata": {},
   "source": [
    "### Importing Dependencies"
   ]
  },
  {
   "cell_type": "code",
   "execution_count": 1,
   "metadata": {},
   "outputs": [],
   "source": [
    "my_path ='C:/Users/voice/RAVDESS-RawData'"
   ]
  },
  {
   "cell_type": "markdown",
   "metadata": {},
   "source": [
    "### File Naming Convention\n",
    "\n",
    "Each of the 1440 files has a unique filename. The filename consists of a 7-part numerical identifier (e.g., 03-01-06-01-02-01-12.wav). These identifiers define the stimulus characteristics:\n",
    "\n",
    "### FileName Identifiers\n",
    "\n",
    "Modality (01 = full-AV, 02 = video-only, 03 = audio-only).\n",
    "\n",
    "Vocal channel (01 = speech, 02 = song).\n",
    "\n",
    "Emotion (01 = neutral, 02 = calm, 03 = happy, 04 = sad, 05 = angry, 06 = fearful, 07 = disgust, 08 = surprised).\n",
    "\n",
    "Emotional intensity (01 = normal, 02 = strong). NOTE: There is no strong intensity for the 'neutral' emotion.\n",
    "\n",
    "Statement (01 = \"Kids are talking by the door\", 02 = \"Dogs are sitting by the door\").\n",
    "\n",
    "Repetition (01 = 1st repetition, 02 = 2nd repetition).\n",
    "\n",
    "Actor (01 to 24. Odd numbered actors are male, even numbered actors are female).\n",
    "\n",
    "\n",
    "### Emotion Labels\n",
    "\n",
    "01 = neutral\n",
    "\n",
    "02 = calm\n",
    "\n",
    "03 = happy\n",
    "\n",
    "04 = sad\n",
    "\n",
    "05 = angry\n",
    "\n",
    "06 = fearful\n",
    "\n",
    "07 = disgust\n",
    "\n",
    "08 = surprised"
   ]
  },
  {
   "cell_type": "code",
   "execution_count": 2,
   "metadata": {},
   "outputs": [],
   "source": [
    "import os"
   ]
  },
  {
   "cell_type": "code",
   "execution_count": 3,
   "metadata": {},
   "outputs": [],
   "source": [
    "my_data = os.listdir(my_path)"
   ]
  },
  {
   "cell_type": "code",
   "execution_count": 4,
   "metadata": {},
   "outputs": [
    {
     "name": "stdout",
     "output_type": "stream",
     "text": [
      "this is the len of our data:  1440\n",
      "this is an example of a wave file: 03-01-01-01-02-01-03.wav\n",
      "this index position represents the emotion label: 01\n"
     ]
    }
   ],
   "source": [
    "print(\"this is the len of our data: \", len(my_data))\n",
    "print(\"this is an example of a wave file:\", my_data[50])\n",
    "print(\"this index position represents the emotion label:\", my_data[50][6:8])"
   ]
  },
  {
   "cell_type": "code",
   "execution_count": 5,
   "metadata": {},
   "outputs": [],
   "source": [
    "import librosa\n",
    "import librosa.display\n",
    "import matplotlib.pyplot as plt"
   ]
  },
  {
   "cell_type": "markdown",
   "metadata": {},
   "source": [
    "### Load audio file and visualize its waveform (using librosa)\n"
   ]
  },
  {
   "cell_type": "code",
   "execution_count": 6,
   "metadata": {},
   "outputs": [],
   "source": [
    "data, sampling_rate = librosa.load(my_path+'/03-01-01-01-02-01-03.wav')"
   ]
  },
  {
   "cell_type": "code",
   "execution_count": 7,
   "metadata": {
    "scrolled": false
   },
   "outputs": [
    {
     "data": {
      "text/plain": [
       "<librosa.display.AdaptiveWaveplot at 0x28370e77f40>"
      ]
     },
     "execution_count": 7,
     "metadata": {},
     "output_type": "execute_result"
    },
    {
     "data": {
      "image/png": "[encoded data removed]",
      "text/plain": [
       "<Figure size 1080x360 with 1 Axes>"
      ]
     },
     "metadata": {
      "needs_background": "light"
     },
     "output_type": "display_data"
    }
   ],
   "source": [
    "plt.figure(figsize=(15, 5))\n",
    "librosa.display.waveshow(data, sr=sampling_rate)"
   ]
  },
  {
   "cell_type": "markdown",
   "metadata": {},
   "source": [
    "### Convert the audio waveform\n",
    "\n",
    "Mel-frequency cepstral coefficients (MFCC) extraction\n",
    "\n",
    "This Function returns:\n",
    "\n",
    "    Features\n",
    "    Labels"
   ]
  },
  {
   "cell_type": "code",
   "execution_count": 8,
   "metadata": {},
   "outputs": [],
   "source": [
    "import scipy.io.wavfile\n",
    "import numpy as np\n",
    "\n",
    "emotions_num = [\"Neutral-01\",\"Calm-02\",\"Happy-03\",\"Sad-04\",\"Angry-05\",\"Fearful-06\",\"Disgust-07\",\"Surprised-08\"]\n",
    "actors = [\"01\",\"02\",\"03\",\"04\",\"05\",\"06\",\"07\",\"08\",\"09\",\"10\",\"11\",\"12\",\n",
    "         \"13\",\"14\",\"15\",\"16\",\"17\",\"18\",\"19\",\"20\",\"21\",\"22\",\"23\",\"24\"]\n",
    "number_of_mfcc_features = 49\n",
    "\n",
    "def mfcc_extraction(path, modal_vocal, emotions_num, actors):\n",
    "    labels = []\n",
    "    mean_features = []\n",
    "    std_features = []\n",
    "    var_features = []\n",
    "    min_features = []\n",
    "    max_features = []\n",
    "    \n",
    "    #with repetition number: 1 and statement number 1 and emotional intensity number #1\n",
    "    for index1,emotion_num in enumerate(emotions_num):\n",
    "        for index,actor in enumerate(actors):\n",
    "            x, sr = librosa.load(path+modal_vocal+emotion_num[-2:]+\"-01-01-01-\"+actor+\".wav\", sr=44100)\n",
    "            mean_mfccs = np.mean(librosa.feature.mfcc(y=x, sr=sr, n_mfcc=number_of_mfcc_features).T,axis=0) \n",
    "            std_mfccs = np.std(librosa.feature.mfcc(y=x, sr=sr, n_mfcc=number_of_mfcc_features).T,axis=0)\n",
    "            var_mfccs = np.var(librosa.feature.mfcc(y=x, sr=sr, n_mfcc=number_of_mfcc_features).T,axis=0)\n",
    "            min_mfccs = np.amin(librosa.feature.mfcc(y=x, sr=sr, n_mfcc=number_of_mfcc_features).T,axis=0)\n",
    "            max_mfccs = np.amax(librosa.feature.mfcc(y=x, sr=sr, n_mfcc=number_of_mfcc_features).T,axis=0)\n",
    "            \n",
    "            mean_features.append(mean_mfccs)\n",
    "            std_features.append(std_mfccs)\n",
    "            var_features.append(var_mfccs)\n",
    "            min_features.append(min_mfccs)\n",
    "            max_features.append(max_mfccs)\n",
    "            \n",
    "            labels.append(emotion_num[:-3])\n",
    "    \n",
    "    #with repetition number: 1 and statement number 2 and emotional intensity number 1\n",
    "    for index1,emotion_num in enumerate(emotions_num):\n",
    "        for index,actor in enumerate(actors):\n",
    "            x, sr = librosa.load(path+modal_vocal+emotion_num[-2:]+\"-01-02-01-\"+actor+\".wav\", sr=44100)\n",
    "            mean_mfccs = np.mean(librosa.feature.mfcc(y=x, sr=sr, n_mfcc=number_of_mfcc_features).T,axis=0) \n",
    "            std_mfccs = np.std(librosa.feature.mfcc(y=x, sr=sr, n_mfcc=number_of_mfcc_features).T,axis=0)\n",
    "            var_mfccs = np.var(librosa.feature.mfcc(y=x, sr=sr, n_mfcc=number_of_mfcc_features).T,axis=0)\n",
    "            min_mfccs = np.amin(librosa.feature.mfcc(y=x, sr=sr, n_mfcc=number_of_mfcc_features).T,axis=0)\n",
    "            max_mfccs = np.amax(librosa.feature.mfcc(y=x, sr=sr, n_mfcc=number_of_mfcc_features).T,axis=0)\n",
    "            \n",
    "            mean_features.append(mean_mfccs)\n",
    "            std_features.append(std_mfccs)\n",
    "            var_features.append(var_mfccs)\n",
    "            min_features.append(min_mfccs)\n",
    "            max_features.append(max_mfccs)\n",
    "            \n",
    "            labels.append(emotion_num[:-3])\n",
    "    #with repetition number: 2 and statement number 1 and emotional intensity number #1\n",
    "    for index1,emotion_num in enumerate(emotions_num):\n",
    "        for index,actor in enumerate(actors):\n",
    "            x, sr = librosa.load(path+modal_vocal+emotion_num[-2:]+\"-01-01-02-\"+actor+\".wav\", sr=44100)\n",
    "            mean_mfccs = np.mean(librosa.feature.mfcc(y=x, sr=sr, n_mfcc=number_of_mfcc_features).T,axis=0) \n",
    "            std_mfccs = np.std(librosa.feature.mfcc(y=x, sr=sr, n_mfcc=number_of_mfcc_features).T,axis=0)\n",
    "            var_mfccs = np.var(librosa.feature.mfcc(y=x, sr=sr, n_mfcc=number_of_mfcc_features).T,axis=0)\n",
    "            min_mfccs = np.amin(librosa.feature.mfcc(y=x, sr=sr, n_mfcc=number_of_mfcc_features).T,axis=0)\n",
    "            max_mfccs = np.amax(librosa.feature.mfcc(y=x, sr=sr, n_mfcc=number_of_mfcc_features).T,axis=0)\n",
    "            \n",
    "            mean_features.append(mean_mfccs)\n",
    "            std_features.append(std_mfccs)\n",
    "            var_features.append(var_mfccs)\n",
    "            min_features.append(min_mfccs)\n",
    "            max_features.append(max_mfccs)\n",
    "            \n",
    "            labels.append(emotion_num[:-3])\n",
    "            \n",
    "    #with repetition number: 2 and statement number 2 and emotional intensity number 1\n",
    "    for index1,emotion_num in enumerate(emotions_num):\n",
    "        for index,actor in enumerate(actors):\n",
    "            x, sr = librosa.load(path+modal_vocal+emotion_num[-2:]+\"-01-02-02-\"+actor+\".wav\", sr=44100)\n",
    "            mean_mfccs = np.mean(librosa.feature.mfcc(y=x, sr=sr, n_mfcc=number_of_mfcc_features).T,axis=0) \n",
    "            std_mfccs = np.std(librosa.feature.mfcc(y=x, sr=sr, n_mfcc=number_of_mfcc_features).T,axis=0)\n",
    "            var_mfccs = np.var(librosa.feature.mfcc(y=x, sr=sr, n_mfcc=number_of_mfcc_features).T,axis=0)\n",
    "            min_mfccs = np.amin(librosa.feature.mfcc(y=x, sr=sr, n_mfcc=number_of_mfcc_features).T,axis=0)\n",
    "            max_mfccs = np.amax(librosa.feature.mfcc(y=x, sr=sr, n_mfcc=number_of_mfcc_features).T,axis=0)\n",
    "            \n",
    "            mean_features.append(mean_mfccs)\n",
    "            std_features.append(std_mfccs)\n",
    "            var_features.append(var_mfccs)\n",
    "            min_features.append(min_mfccs)\n",
    "            max_features.append(max_mfccs)\n",
    "            \n",
    "            labels.append(emotion_num[:-3])\n",
    "            \n",
    "     #with repetition number: 1 and statement number 1 and emotional intensity number #2\n",
    "    for index1,emotion_num in enumerate(emotions_num):\n",
    "        for index,actor in enumerate(actors):\n",
    "            if emotion_num != \"Neutral-01\":\n",
    "                x, sr = librosa.load(path+modal_vocal+emotion_num[-2:]+\"-02-01-01-\"+actor+\".wav\", sr=44100)\n",
    "                mean_mfccs = np.mean(librosa.feature.mfcc(y=x, sr=sr, n_mfcc=number_of_mfcc_features).T,axis=0) \n",
    "                std_mfccs = np.std(librosa.feature.mfcc(y=x, sr=sr, n_mfcc=number_of_mfcc_features).T,axis=0)\n",
    "                var_mfccs = np.var(librosa.feature.mfcc(y=x, sr=sr, n_mfcc=number_of_mfcc_features).T,axis=0)\n",
    "                min_mfccs = np.amin(librosa.feature.mfcc(y=x, sr=sr, n_mfcc=number_of_mfcc_features).T,axis=0)\n",
    "                max_mfccs = np.amax(librosa.feature.mfcc(y=x, sr=sr, n_mfcc=number_of_mfcc_features).T,axis=0)\n",
    "            \n",
    "                mean_features.append(mean_mfccs)\n",
    "                std_features.append(std_mfccs)\n",
    "                var_features.append(var_mfccs)\n",
    "                min_features.append(min_mfccs)\n",
    "                max_features.append(max_mfccs)\n",
    "                labels.append(emotion_num[:-3])\n",
    "    \n",
    "    #with repetition number: 1 and statement number 2 and emotional intensity number 2\n",
    "    for index1,emotion_num in enumerate(emotions_num):\n",
    "        for index,actor in enumerate(actors):\n",
    "            if emotion_num != \"Neutral-01\":\n",
    "                x, sr = librosa.load(path+modal_vocal+emotion_num[-2:]+\"-02-02-01-\"+actor+\".wav\", sr=44100)\n",
    "                mean_mfccs = np.mean(librosa.feature.mfcc(y=x, sr=sr, n_mfcc=number_of_mfcc_features).T,axis=0) \n",
    "                std_mfccs = np.std(librosa.feature.mfcc(y=x, sr=sr, n_mfcc=number_of_mfcc_features).T,axis=0)\n",
    "                var_mfccs = np.var(librosa.feature.mfcc(y=x, sr=sr, n_mfcc=number_of_mfcc_features).T,axis=0)\n",
    "                min_mfccs = np.amin(librosa.feature.mfcc(y=x, sr=sr, n_mfcc=number_of_mfcc_features).T,axis=0)\n",
    "                max_mfccs = np.amax(librosa.feature.mfcc(y=x, sr=sr, n_mfcc=number_of_mfcc_features).T,axis=0)\n",
    "            \n",
    "                mean_features.append(mean_mfccs)\n",
    "                std_features.append(std_mfccs)\n",
    "                var_features.append(var_mfccs)\n",
    "                min_features.append(min_mfccs)\n",
    "                max_features.append(max_mfccs)\n",
    "                labels.append(emotion_num[:-3])\n",
    "            \n",
    "    #with repetition number: 2 and statement number 1 and emotional intensity number #2\n",
    "    for index1,emotion_num in enumerate(emotions_num):\n",
    "        for index,actor in enumerate(actors):\n",
    "            if emotion_num != \"Neutral-01\":\n",
    "                x, sr = librosa.load(path+modal_vocal+emotion_num[-2:]+\"-02-01-02-\"+actor+\".wav\", sr=44100)\n",
    "                mean_mfccs = np.mean(librosa.feature.mfcc(y=x, sr=sr, n_mfcc=number_of_mfcc_features).T,axis=0) \n",
    "                std_mfccs = np.std(librosa.feature.mfcc(y=x, sr=sr, n_mfcc=number_of_mfcc_features).T,axis=0)\n",
    "                var_mfccs = np.var(librosa.feature.mfcc(y=x, sr=sr, n_mfcc=number_of_mfcc_features).T,axis=0)\n",
    "                min_mfccs = np.amin(librosa.feature.mfcc(y=x, sr=sr, n_mfcc=number_of_mfcc_features).T,axis=0)\n",
    "                max_mfccs = np.amax(librosa.feature.mfcc(y=x, sr=sr, n_mfcc=number_of_mfcc_features).T,axis=0)\n",
    "            \n",
    "                mean_features.append(mean_mfccs)\n",
    "                std_features.append(std_mfccs)\n",
    "                var_features.append(var_mfccs)\n",
    "                min_features.append(min_mfccs)\n",
    "                max_features.append(max_mfccs)\n",
    "                \n",
    "                labels.append(emotion_num[:-3])\n",
    "                \n",
    "     #with repetition number: 2 and statement number 2 and emotional intensity number 2\n",
    "    for index1,emotion_num in enumerate(emotions_num):\n",
    "        for index,actor in enumerate(actors):\n",
    "            if emotion_num != \"Neutral-01\":\n",
    "                x, sr = librosa.load(path+modal_vocal+emotion_num[-2:]+\"-02-02-02-\"+actor+\".wav\", sr=44100)\n",
    "                mean_mfccs = np.mean(librosa.feature.mfcc(y=x, sr=sr, n_mfcc=number_of_mfcc_features).T,axis=0) \n",
    "                std_mfccs = np.std(librosa.feature.mfcc(y=x, sr=sr, n_mfcc=number_of_mfcc_features).T,axis=0)\n",
    "                var_mfccs = np.var(librosa.feature.mfcc(y=x, sr=sr, n_mfcc=number_of_mfcc_features).T,axis=0)\n",
    "                min_mfccs = np.amin(librosa.feature.mfcc(y=x, sr=sr, n_mfcc=number_of_mfcc_features).T,axis=0)\n",
    "                max_mfccs = np.amax(librosa.feature.mfcc(y=x, sr=sr, n_mfcc=number_of_mfcc_features).T,axis=0)\n",
    "            \n",
    "                mean_features.append(mean_mfccs)\n",
    "                std_features.append(std_mfccs)\n",
    "                var_features.append(var_mfccs)\n",
    "                min_features.append(min_mfccs)\n",
    "                max_features.append(max_mfccs)\n",
    "                \n",
    "                labels.append(emotion_num[:-3])      \n",
    "\n",
    "    return number_of_mfcc_features, mean_features, std_features, var_features, min_features, max_features, labels\n"
   ]
  },
  {
   "cell_type": "code",
   "execution_count": 9,
   "metadata": {},
   "outputs": [],
   "source": [
    "mfcc_features_and_labels = mfcc_extraction(my_path,'/03-01-', emotions_num, actors)"
   ]
  },
  {
   "cell_type": "markdown",
   "metadata": {},
   "source": [
    "### In our function we are extracting:\n",
    "2(repetition)\n",
    "\n",
    "2(statement)\n",
    "\n",
    "2(emotional)\n",
    "\n",
    "8(emotions)\n",
    "\n",
    "24(actors)\n",
    "\n",
    "1440 examples"
   ]
  },
  {
   "cell_type": "code",
   "execution_count": 10,
   "metadata": {},
   "outputs": [],
   "source": [
    "import numpy as np"
   ]
  },
  {
   "cell_type": "code",
   "execution_count": 11,
   "metadata": {},
   "outputs": [
    {
     "name": "stdout",
     "output_type": "stream",
     "text": [
      "len of examples: 1440\n",
      "len of labels: 1440\n",
      "number of mfcc features: 49\n",
      "feature dimension: 1\n",
      "feature shape: (49,)\n",
      "\n",
      "[-7.1986127e+02  6.5998421e+01  3.5965700e+00  1.1047213e+01\n",
      "  6.6888399e+00  1.2107189e+01 -3.3327172e+00  2.8499401e+00\n",
      " -4.1568470e+00 -2.0473523e+00 -8.9901695e+00  6.1100215e-01\n",
      "  1.2450078e+00 -2.4556212e+00  1.9864391e+00  2.2767791e-01\n",
      " -2.9493170e+00  2.0467911e+00  1.0572704e+00 -2.5976648e+00\n",
      " -1.4789832e+00 -1.0666192e+00  2.5210676e-01 -1.0366986e+00\n",
      " -4.0053768e+00 -1.2220522e+00 -1.6550493e-01 -2.5634646e+00\n",
      " -3.3357041e+00 -2.2543405e-01 -4.5113167e-01 -3.1749384e+00\n",
      " -1.1625921e+00 -4.5952205e-02 -1.1741140e+00  1.4009096e-01\n",
      " -1.0920945e+00 -1.6492877e+00 -1.7642398e+00 -1.1574389e+00\n",
      " -1.9341891e+00 -1.9842182e+00 -1.4114885e+00 -6.3904786e-01\n",
      " -4.5246974e-01 -2.4277527e+00 -1.3337766e+00 -1.5494361e+00\n",
      " -2.6125827e+00] Neutral\n"
     ]
    }
   ],
   "source": [
    "# exract features and labels from \n",
    "number_of_mfcc_features, mean_mfcc_features, std_mfcc_features, var_mfcc_features, min_features, max_features, mfcc_labels = mfcc_features_and_labels\n",
    "print(\"len of examples:\", len(mean_mfcc_features))\n",
    "print(\"len of labels:\", len(mfcc_labels))\n",
    "print(\"number of mfcc features:\", number_of_mfcc_features)\n",
    "print(\"feature dimension:\", mean_mfcc_features[0].ndim)\n",
    "print(\"feature shape:\", mean_mfcc_features[0].shape)\n",
    "print()\n",
    "mfcc_labels = np.array(mfcc_labels)\n",
    "print(mean_mfcc_features[0],mfcc_labels[0])"
   ]
  },
  {
   "cell_type": "code",
   "execution_count": 12,
   "metadata": {},
   "outputs": [
    {
     "name": "stdout",
     "output_type": "stream",
     "text": [
      "(1440, 49)\n",
      "(1440, 49)\n",
      "(1440, 49)\n",
      "(1440, 49)\n",
      "(1440, 49)\n"
     ]
    }
   ],
   "source": [
    "mean_mfcc_features = np.array(mean_mfcc_features)\n",
    "std_mfcc_features = np.array(std_mfcc_features)\n",
    "var_mfcc_features = np.array(var_mfcc_features)\n",
    "min_features = np.array(min_features)\n",
    "max_features = np.array(max_features)\n",
    "\n",
    "print(std_mfcc_features.shape)\n",
    "print(mean_mfcc_features.shape)\n",
    "print(var_mfcc_features.shape)\n",
    "print(min_features.shape)\n",
    "print(max_features.shape)"
   ]
  },
  {
   "cell_type": "code",
   "execution_count": 13,
   "metadata": {},
   "outputs": [
    {
     "data": {
      "text/plain": [
       "(1440, 98)"
      ]
     },
     "execution_count": 13,
     "metadata": {},
     "output_type": "execute_result"
    }
   ],
   "source": [
    "mfcc_features = np.concatenate((mean_mfcc_features,std_mfcc_features),axis = 1)\n",
    "mfcc_features.shape"
   ]
  },
  {
   "cell_type": "code",
   "execution_count": 14,
   "metadata": {},
   "outputs": [
    {
     "data": {
      "image/png": "[encoded data removed]",
      "text/plain": [
       "<Figure size 432x288 with 1 Axes>"
      ]
     },
     "metadata": {
      "needs_background": "light"
     },
     "output_type": "display_data"
    }
   ],
   "source": [
    "from sklearn.decomposition import PCA\n",
    "#Fitting the PCA algorithm with our Data\n",
    "pca = PCA().fit(mfcc_features)\n",
    "#Plotting the Cumulative Summation of the Explained Variance\n",
    "plt.figure()\n",
    "plt.plot(np.cumsum(pca.explained_variance_ratio_))\n",
    "plt.xlabel('Number of Components')\n",
    "plt.ylabel('Variance (%)') #for each component\n",
    "plt.title('MFCC Explained Variance')\n",
    "plt.show()"
   ]
  },
  {
   "cell_type": "code",
   "execution_count": 15,
   "metadata": {},
   "outputs": [],
   "source": [
    "from sklearn.decomposition import PCA\n",
    "pca = PCA(n_components=69)\n",
    "mfcc_features = pca.fit_transform(mfcc_features)"
   ]
  },
  {
   "cell_type": "code",
   "execution_count": 16,
   "metadata": {},
   "outputs": [
    {
     "data": {
      "text/plain": [
       "(1440, 69)"
      ]
     },
     "execution_count": 16,
     "metadata": {},
     "output_type": "execute_result"
    }
   ],
   "source": [
    "mfcc_features.shape"
   ]
  },
  {
   "cell_type": "markdown",
   "metadata": {},
   "source": [
    "### Standardising Data"
   ]
  },
  {
   "cell_type": "code",
   "execution_count": 17,
   "metadata": {},
   "outputs": [],
   "source": [
    "from sklearn.preprocessing import StandardScaler\n",
    "\n",
    "data = mfcc_features\n",
    "scaler = StandardScaler()\n",
    "mfcc_features = scaler.fit_transform(data)"
   ]
  },
  {
   "cell_type": "markdown",
   "metadata": {},
   "source": [
    "### Oversample \"NEUTRAL\" (EMOTION) in order to match our dataset"
   ]
  },
  {
   "cell_type": "code",
   "execution_count": 18,
   "metadata": {},
   "outputs": [
    {
     "name": "stdout",
     "output_type": "stream",
     "text": [
      "{'Neutral': 96, 'Calm': 192, 'Happy': 192, 'Sad': 192, 'Angry': 192, 'Fearful': 192, 'Disgust': 192, 'Surprised': 192}\n"
     ]
    }
   ],
   "source": [
    "dictionary = {}\n",
    "for i in mfcc_labels:\n",
    "    dictionary[i] = dictionary.get(i,0) + 1\n",
    "\n",
    "print(dictionary)"
   ]
  },
  {
   "cell_type": "code",
   "execution_count": 19,
   "metadata": {},
   "outputs": [
    {
     "name": "stdout",
     "output_type": "stream",
     "text": [
      "Requirement already satisfied: imbalanced-learn in c:\\users\\lenovo\\appdata\\roaming\\python\\python38\\site-packages (0.9.1)\n",
      "Requirement already satisfied: scipy>=1.3.2 in c:\\users\\lenovo\\anaconda3\\lib\\site-packages (from imbalanced-learn) (1.6.2)\n",
      "Requirement already satisfied: scikit-learn>=1.1.0 in c:\\users\\lenovo\\anaconda3\\lib\\site-packages (from imbalanced-learn) (1.1.1)\n",
      "Requirement already satisfied: threadpoolctl>=2.0.0 in c:\\users\\lenovo\\anaconda3\\lib\\site-packages (from imbalanced-learn) (2.1.0)\n",
      "Requirement already satisfied: numpy>=1.17.3 in c:\\users\\lenovo\\anaconda3\\lib\\site-packages (from imbalanced-learn) (1.20.1)\n",
      "Requirement already satisfied: joblib>=1.0.0 in c:\\users\\lenovo\\anaconda3\\lib\\site-packages (from imbalanced-learn) (1.0.1)\n",
      "Note: you may need to restart the kernel to use updated packages.\n"
     ]
    }
   ],
   "source": [
    "pip install --user imbalanced-learn\n"
   ]
  },
  {
   "cell_type": "code",
   "execution_count": 20,
   "metadata": {},
   "outputs": [
    {
     "name": "stdout",
     "output_type": "stream",
     "text": [
      "{'Neutral': 192, 'Calm': 192, 'Happy': 192, 'Sad': 192, 'Angry': 192, 'Fearful': 192, 'Disgust': 192, 'Surprised': 192}\n"
     ]
    }
   ],
   "source": [
    "from imblearn.over_sampling import RandomOverSampler\n",
    "ros = RandomOverSampler(random_state=42)\n",
    "new_mfcc_features,  mfcc_labels = ros.fit_resample(mfcc_features,  mfcc_labels)\n",
    "\n",
    "dictionary_2 = {}\n",
    "for i in mfcc_labels:\n",
    "    dictionary_2[i] = dictionary_2.get(i,0) + 1\n",
    "\n",
    "print(dictionary_2)"
   ]
  },
  {
   "cell_type": "code",
   "execution_count": 21,
   "metadata": {},
   "outputs": [
    {
     "data": {
      "text/plain": [
       "(1536, 69)"
      ]
     },
     "execution_count": 21,
     "metadata": {},
     "output_type": "execute_result"
    }
   ],
   "source": [
    "new_mfcc_features.shape"
   ]
  },
  {
   "cell_type": "markdown",
   "metadata": {},
   "source": [
    "### Train-Test Split"
   ]
  },
  {
   "cell_type": "code",
   "execution_count": 22,
   "metadata": {},
   "outputs": [],
   "source": [
    "from sklearn.model_selection import train_test_split\n",
    "X_train, X_test, y_train, y_test = train_test_split(new_mfcc_features, mfcc_labels, test_size=0.30, \n",
    "                                                    random_state=42, stratify = mfcc_labels, shuffle= True)"
   ]
  },
  {
   "cell_type": "code",
   "execution_count": 23,
   "metadata": {},
   "outputs": [],
   "source": [
    "from sklearn.svm import SVC\n",
    "from sklearn.metrics import accuracy_score"
   ]
  },
  {
   "cell_type": "markdown",
   "metadata": {},
   "source": [
    "### Model Training Using Support Vector Machine "
   ]
  },
  {
   "cell_type": "code",
   "execution_count": 24,
   "metadata": {},
   "outputs": [
    {
     "name": "stdout",
     "output_type": "stream",
     "text": [
      "0.6052060737527115\n"
     ]
    }
   ],
   "source": [
    "clf = SVC(kernel='linear')\n",
    "clf.fit(X_train,y_train)\n",
    "y_pred = clf.predict(X_test)\n",
    "print(accuracy_score(y_test,y_pred))"
   ]
  },
  {
   "cell_type": "markdown",
   "metadata": {},
   "source": [
    "### Hyper-Parameter Tuning using GridSearchCV"
   ]
  },
  {
   "cell_type": "code",
   "execution_count": 25,
   "metadata": {},
   "outputs": [
    {
     "data": {
      "text/html": [
       "<style>#sk-container-id-1 {color: black;background-color: white;}#sk-container-id-1 pre{padding: 0;}#sk-container-id-1 div.sk-toggleable {background-color: white;}#sk-container-id-1 label.sk-toggleable__label {cursor: pointer;display: block;width: 100%;margin-bottom: 0;padding: 0.3em;box-sizing: border-box;text-align: center;}#sk-container-id-1 label.sk-toggleable__label-arrow:before {content: \"▸\";float: left;margin-right: 0.25em;color: #696969;}#sk-container-id-1 label.sk-toggleable__label-arrow:hover:before {color: black;}#sk-container-id-1 div.sk-estimator:hover label.sk-toggleable__label-arrow:before {color: black;}#sk-container-id-1 div.sk-toggleable__content {max-height: 0;max-width: 0;overflow: hidden;text-align: left;background-color: #f0f8ff;}#sk-container-id-1 div.sk-toggleable__content pre {margin: 0.2em;color: black;border-radius: 0.25em;background-color: #f0f8ff;}#sk-container-id-1 input.sk-toggleable__control:checked~div.sk-toggleable__content {max-height: 200px;max-width: 100%;overflow: auto;}#sk-container-id-1 input.sk-toggleable__control:checked~label.sk-toggleable__label-arrow:before {content: \"▾\";}#sk-container-id-1 div.sk-estimator input.sk-toggleable__control:checked~label.sk-toggleable__label {background-color: #d4ebff;}#sk-container-id-1 div.sk-label input.sk-toggleable__control:checked~label.sk-toggleable__label {background-color: #d4ebff;}#sk-container-id-1 input.sk-hidden--visually {border: 0;clip: rect(1px 1px 1px 1px);clip: rect(1px, 1px, 1px, 1px);height: 1px;margin: -1px;overflow: hidden;padding: 0;position: absolute;width: 1px;}#sk-container-id-1 div.sk-estimator {font-family: monospace;background-color: #f0f8ff;border: 1px dotted black;border-radius: 0.25em;box-sizing: border-box;margin-bottom: 0.5em;}#sk-container-id-1 div.sk-estimator:hover {background-color: #d4ebff;}#sk-container-id-1 div.sk-parallel-item::after {content: \"\";width: 100%;border-bottom: 1px solid gray;flex-grow: 1;}#sk-container-id-1 div.sk-label:hover label.sk-toggleable__label {background-color: #d4ebff;}#sk-container-id-1 div.sk-serial::before {content: \"\";position: absolute;border-left: 1px solid gray;box-sizing: border-box;top: 0;bottom: 0;left: 50%;z-index: 0;}#sk-container-id-1 div.sk-serial {display: flex;flex-direction: column;align-items: center;background-color: white;padding-right: 0.2em;padding-left: 0.2em;position: relative;}#sk-container-id-1 div.sk-item {position: relative;z-index: 1;}#sk-container-id-1 div.sk-parallel {display: flex;align-items: stretch;justify-content: center;background-color: white;position: relative;}#sk-container-id-1 div.sk-item::before, #sk-container-id-1 div.sk-parallel-item::before {content: \"\";position: absolute;border-left: 1px solid gray;box-sizing: border-box;top: 0;bottom: 0;left: 50%;z-index: -1;}#sk-container-id-1 div.sk-parallel-item {display: flex;flex-direction: column;z-index: 1;position: relative;background-color: white;}#sk-container-id-1 div.sk-parallel-item:first-child::after {align-self: flex-end;width: 50%;}#sk-container-id-1 div.sk-parallel-item:last-child::after {align-self: flex-start;width: 50%;}#sk-container-id-1 div.sk-parallel-item:only-child::after {width: 0;}#sk-container-id-1 div.sk-dashed-wrapped {border: 1px dashed gray;margin: 0 0.4em 0.5em 0.4em;box-sizing: border-box;padding-bottom: 0.4em;background-color: white;}#sk-container-id-1 div.sk-label label {font-family: monospace;font-weight: bold;display: inline-block;line-height: 1.2em;}#sk-container-id-1 div.sk-label-container {text-align: center;}#sk-container-id-1 div.sk-container {/* jupyter's `normalize.less` sets `[hidden] { display: none; }` but bootstrap.min.css set `[hidden] { display: none !important; }` so we also need the `!important` here to be able to override the default hidden behavior on the sphinx rendered scikit-learn.org. See: https://github.com/scikit-learn/scikit-learn/issues/21755 */display: inline-block !important;position: relative;}#sk-container-id-1 div.sk-text-repr-fallback {display: none;}</style><div id=\"sk-container-id-1\" class=\"sk-top-container\"><div class=\"sk-text-repr-fallback\"><pre>GridSearchCV(cv=10, estimator=SVC(),\n",
       "             param_grid={&#x27;C&#x27;: [0.1, 1, 10, 100, 1000],\n",
       "                         &#x27;gamma&#x27;: [1, 0.1, 0.01, 0.001, 0.0001],\n",
       "                         &#x27;kernel&#x27;: [&#x27;linear&#x27;, &#x27;poly&#x27;, &#x27;rbf&#x27;]})</pre><b>In a Jupyter environment, please rerun this cell to show the HTML representation or trust the notebook. <br />On GitHub, the HTML representation is unable to render, please try loading this page with nbviewer.org.</b></div><div class=\"sk-container\" hidden><div class=\"sk-item sk-dashed-wrapped\"><div class=\"sk-label-container\"><div class=\"sk-label sk-toggleable\"><input class=\"sk-toggleable__control sk-hidden--visually\" id=\"sk-estimator-id-1\" type=\"checkbox\" ><label for=\"sk-estimator-id-1\" class=\"sk-toggleable__label sk-toggleable__label-arrow\">GridSearchCV</label><div class=\"sk-toggleable__content\"><pre>GridSearchCV(cv=10, estimator=SVC(),\n",
       "             param_grid={&#x27;C&#x27;: [0.1, 1, 10, 100, 1000],\n",
       "                         &#x27;gamma&#x27;: [1, 0.1, 0.01, 0.001, 0.0001],\n",
       "                         &#x27;kernel&#x27;: [&#x27;linear&#x27;, &#x27;poly&#x27;, &#x27;rbf&#x27;]})</pre></div></div></div><div class=\"sk-parallel\"><div class=\"sk-parallel-item\"><div class=\"sk-item\"><div class=\"sk-label-container\"><div class=\"sk-label sk-toggleable\"><input class=\"sk-toggleable__control sk-hidden--visually\" id=\"sk-estimator-id-2\" type=\"checkbox\" ><label for=\"sk-estimator-id-2\" class=\"sk-toggleable__label sk-toggleable__label-arrow\">estimator: SVC</label><div class=\"sk-toggleable__content\"><pre>SVC()</pre></div></div></div><div class=\"sk-serial\"><div class=\"sk-item\"><div class=\"sk-estimator sk-toggleable\"><input class=\"sk-toggleable__control sk-hidden--visually\" id=\"sk-estimator-id-3\" type=\"checkbox\" ><label for=\"sk-estimator-id-3\" class=\"sk-toggleable__label sk-toggleable__label-arrow\">SVC</label><div class=\"sk-toggleable__content\"><pre>SVC()</pre></div></div></div></div></div></div></div></div></div></div>"
      ],
      "text/plain": [
       "GridSearchCV(cv=10, estimator=SVC(),\n",
       "             param_grid={'C': [0.1, 1, 10, 100, 1000],\n",
       "                         'gamma': [1, 0.1, 0.01, 0.001, 0.0001],\n",
       "                         'kernel': ['linear', 'poly', 'rbf']})"
      ]
     },
     "execution_count": 25,
     "metadata": {},
     "output_type": "execute_result"
    }
   ],
   "source": [
    "from sklearn.model_selection import GridSearchCV \n",
    "  \n",
    "# defining parameter range \n",
    "param_grid = {'C': [0.1, 1, 10, 100, 1000],  \n",
    "              'gamma': [1, 0.1, 0.01, 0.001, 0.0001], \n",
    "              'kernel': ['linear','poly','rbf']}  \n",
    "\n",
    "grid = GridSearchCV(SVC(), param_grid, cv=10) \n",
    "  \n",
    "# fitting the model for grid search \n",
    "grid.fit(X_train, y_train) "
   ]
  },
  {
   "cell_type": "code",
   "execution_count": 26,
   "metadata": {},
   "outputs": [
    {
     "name": "stdout",
     "output_type": "stream",
     "text": [
      "{'C': 10, 'gamma': 0.01, 'kernel': 'rbf'}\n",
      "SVC(C=10, gamma=0.01)\n"
     ]
    }
   ],
   "source": [
    "# print best parameter after tuning \n",
    "print(grid.best_params_) \n",
    "  \n",
    "# print how our model looks after hyper-parameter tuning \n",
    "print(grid.best_estimator_) "
   ]
  },
  {
   "cell_type": "markdown",
   "metadata": {},
   "source": [
    "### EVALUATING MODEL USING CLASSIFICATION METRICS"
   ]
  },
  {
   "cell_type": "code",
   "execution_count": 27,
   "metadata": {},
   "outputs": [
    {
     "name": "stdout",
     "output_type": "stream",
     "text": [
      "              precision    recall  f1-score   support\n",
      "\n",
      "       Angry       0.85      0.81      0.83        57\n",
      "        Calm       0.88      0.86      0.87        57\n",
      "     Disgust       0.76      0.76      0.76        58\n",
      "     Fearful       0.77      0.76      0.77        58\n",
      "       Happy       0.75      0.66      0.70        58\n",
      "     Neutral       0.82      0.93      0.87        57\n",
      "         Sad       0.68      0.72      0.70        58\n",
      "   Surprised       0.78      0.78      0.78        58\n",
      "\n",
      "    accuracy                           0.78       461\n",
      "   macro avg       0.78      0.78      0.78       461\n",
      "weighted avg       0.78      0.78      0.78       461\n",
      "\n",
      "[[46  0  2  1  3  0  2  3]\n",
      " [ 0 49  1  0  2  1  4  0]\n",
      " [ 3  3 44  0  2  2  1  3]\n",
      " [ 1  0  0 44  1  0  9  3]\n",
      " [ 3  1  5  2 38  4  3  2]\n",
      " [ 0  1  2  0  0 53  1  0]\n",
      " [ 0  1  2  7  1  3 42  2]\n",
      " [ 1  1  2  3  4  2  0 45]]\n",
      "\n",
      "0.7830802603036876\n"
     ]
    }
   ],
   "source": [
    "from sklearn.metrics import classification_report, confusion_matrix, accuracy_score\n",
    "grid_predictions = grid.predict(X_test) \n",
    "# print classification report \n",
    "print(classification_report(y_test, grid_predictions)) \n",
    "print(confusion_matrix(y_test, grid_predictions)) \n",
    "print()\n",
    "print(accuracy_score(y_test, grid_predictions)) "
   ]
  },
  {
   "cell_type": "code",
   "execution_count": null,
   "metadata": {},
   "outputs": [],
   "source": []
  }
 ],
 "metadata": {
  "kernelspec": {
   "display_name": "Python 3",
   "language": "python",
   "name": "python3"
  },
  "language_info": {
   "codemirror_mode": {
    "name": "ipython",
    "version": 3
   },
   "file_extension": ".py",
   "mimetype": "text/x-python",
   "name": "python",
   "nbconvert_exporter": "python",
   "pygments_lexer": "ipython3",
   "version": "3.8.5"
  }
 },
 "nbformat": 4,
 "nbformat_minor": 5
}
