{
  "nbformat": 4,
  "nbformat_minor": 0,
  "metadata": {
    "colab": {
      "name": "TEAM_10_QUESTION_1.ipynb",
      "provenance": [],
      "collapsed_sections": []
    },
    "kernelspec": {
      "name": "python3",
      "display_name": "Python 3"
    },
    "language_info": {
      "name": "python"
    }
  },
  "cells": [
    {
      "cell_type": "markdown",
      "source": [
        "**TEAM 10**\n",
        "\n",
        "**E.VIGNESH (CB.EN.P2DSC21010)**\n",
        "\n",
        "**N.SAI DHANUSH (CB.EN.P2DSC21016)**"
      ],
      "metadata": {
        "id": "E13tfzPBuqzP"
      }
    },
    {
      "cell_type": "markdown",
      "source": [
        "**QUESTION 1:**\n",
        "\n",
        "**Perform ASR using GMM-HMM using MFCC features (instead of maximum peaks in the spectrum)\n",
        "on the dataset of the google code project by Hakon Sandsmark.**"
      ],
      "metadata": {
        "id": "DCkWt60AwFCN"
      }
    },
    {
      "cell_type": "code",
      "execution_count": 1,
      "metadata": {
        "colab": {
          "base_uri": "https://localhost:8080/"
        },
        "id": "P90daPUU3TIn",
        "outputId": "ad684dfc-7b9a-493a-aee6-5d7e9b0a80b8"
      },
      "outputs": [
        {
          "output_type": "stream",
          "name": "stdout",
          "text": [
            "Mounted at /content/drive\n"
          ]
        }
      ],
      "source": [
        "from google.colab import drive\n",
        "drive.mount('/content/drive')"
      ]
    },
    {
      "cell_type": "markdown",
      "source": [
        "**Importing Dependencies**"
      ],
      "metadata": {
        "id": "PL7KJrOdvH1y"
      }
    },
    {
      "cell_type": "code",
      "source": [
        "import scipy\n",
        "import numpy as np\n",
        "import matplotlib.pyplot as plt\n",
        "import pandas\n",
        "%matplotlib inline  \n",
        "import os\n",
        "import zipfile\n",
        "from zipfile import ZipFile\n",
        "import librosa"
      ],
      "metadata": {
        "id": "RwdJ6zzj4k60"
      },
      "execution_count": 2,
      "outputs": []
    },
    {
      "cell_type": "markdown",
      "source": [
        "**Download Data**"
      ],
      "metadata": {
        "id": "nMNUZ7Hwvn2d"
      }
    },
    {
      "cell_type": "code",
      "source": [
        "from librosa.core.convert import Z_weighting\n",
        "zf = '/content/drive/MyDrive/Colab Notebooks/DATA/hmm-speech-recognition-0.1.zip'"
      ],
      "metadata": {
        "id": "gUqtDptU4m9U"
      },
      "execution_count": 3,
      "outputs": []
    },
    {
      "cell_type": "code",
      "source": [
        "# opening the zip file in READ mode\n",
        "with ZipFile(zf, 'r') as z:\n",
        "    # printing all the contents of the zip file\n",
        "    z.printdir()\n",
        "  \n",
        "    # extracting all the files\n",
        "    print('Extracting all the files now...')\n",
        "    z.extractall('/content/drive/MyDrive/Colab Notebooks/DATA/speech-e8')\n",
        "    print('Done!')"
      ],
      "metadata": {
        "colab": {
          "base_uri": "https://localhost:8080/"
        },
        "id": "swKINC835zYE",
        "outputId": "1cc3ef87-a247-45c0-b9f1-74798e07eeba"
      },
      "execution_count": 4,
      "outputs": [
        {
          "output_type": "stream",
          "name": "stdout",
          "text": [
            "File Name                                             Modified             Size\n",
            "hmm-speech-recognition-0.1/                    2010-12-15 20:17:42            0\n",
            "hmm-speech-recognition-0.1/audio/              2010-12-14 17:05:56            0\n",
            "hmm-speech-recognition-0.1/audio/apple/        2010-12-10 21:20:04            0\n",
            "hmm-speech-recognition-0.1/audio/apple/apple01.wav 2010-12-10 19:33:30         5432\n",
            "__MACOSX/                                      2010-12-15 20:18:02            0\n",
            "__MACOSX/hmm-speech-recognition-0.1/           2010-12-15 20:18:02            0\n",
            "__MACOSX/hmm-speech-recognition-0.1/audio/     2010-12-15 20:18:02            0\n",
            "__MACOSX/hmm-speech-recognition-0.1/audio/apple/ 2010-12-15 20:18:02            0\n",
            "__MACOSX/hmm-speech-recognition-0.1/audio/apple/._apple01.wav 2010-12-10 19:33:30           82\n",
            "hmm-speech-recognition-0.1/audio/apple/apple02.wav 2010-12-10 19:34:00         6546\n",
            "__MACOSX/hmm-speech-recognition-0.1/audio/apple/._apple02.wav 2010-12-10 19:34:00           82\n",
            "hmm-speech-recognition-0.1/audio/apple/apple03.wav 2010-12-10 19:34:22         5990\n",
            "__MACOSX/hmm-speech-recognition-0.1/audio/apple/._apple03.wav 2010-12-10 19:34:22           82\n",
            "hmm-speech-recognition-0.1/audio/apple/apple04.wav 2010-12-10 19:35:18         6360\n",
            "__MACOSX/hmm-speech-recognition-0.1/audio/apple/._apple04.wav 2010-12-10 19:35:18           82\n",
            "hmm-speech-recognition-0.1/audio/apple/apple05.wav 2010-12-10 19:35:44         6544\n",
            "__MACOSX/hmm-speech-recognition-0.1/audio/apple/._apple05.wav 2010-12-10 19:35:44           82\n",
            "hmm-speech-recognition-0.1/audio/apple/apple06.wav 2010-12-10 19:36:00         5804\n",
            "__MACOSX/hmm-speech-recognition-0.1/audio/apple/._apple06.wav 2010-12-10 19:36:00           82\n",
            "hmm-speech-recognition-0.1/audio/apple/apple07.wav 2010-12-10 19:36:14         6360\n",
            "__MACOSX/hmm-speech-recognition-0.1/audio/apple/._apple07.wav 2010-12-10 19:36:14           82\n",
            "hmm-speech-recognition-0.1/audio/apple/apple08.wav 2010-12-10 19:36:42         7288\n",
            "__MACOSX/hmm-speech-recognition-0.1/audio/apple/._apple08.wav 2010-12-10 19:36:42           82\n",
            "hmm-speech-recognition-0.1/audio/apple/apple09.wav 2010-12-10 19:37:06         6916\n",
            "__MACOSX/hmm-speech-recognition-0.1/audio/apple/._apple09.wav 2010-12-10 19:37:06           82\n",
            "hmm-speech-recognition-0.1/audio/apple/apple10.wav 2010-12-10 19:37:50         6916\n",
            "__MACOSX/hmm-speech-recognition-0.1/audio/apple/._apple10.wav 2010-12-10 19:37:50           82\n",
            "hmm-speech-recognition-0.1/audio/apple/apple11.wav 2010-12-10 19:40:34         7102\n",
            "__MACOSX/hmm-speech-recognition-0.1/audio/apple/._apple11.wav 2010-12-10 19:40:34           82\n",
            "hmm-speech-recognition-0.1/audio/apple/apple12.wav 2010-12-10 19:42:40         7102\n",
            "__MACOSX/hmm-speech-recognition-0.1/audio/apple/._apple12.wav 2010-12-10 19:42:40           82\n",
            "hmm-speech-recognition-0.1/audio/apple/apple13.wav 2010-12-10 19:43:10         7102\n",
            "__MACOSX/hmm-speech-recognition-0.1/audio/apple/._apple13.wav 2010-12-10 19:43:10           82\n",
            "hmm-speech-recognition-0.1/audio/apple/apple14.wav 2010-12-10 19:43:30         6732\n",
            "__MACOSX/hmm-speech-recognition-0.1/audio/apple/._apple14.wav 2010-12-10 19:43:30           82\n",
            "hmm-speech-recognition-0.1/audio/apple/apple15.wav 2010-12-10 19:43:46         6916\n",
            "__MACOSX/hmm-speech-recognition-0.1/audio/apple/._apple15.wav 2010-12-10 19:43:46           82\n",
            "hmm-speech-recognition-0.1/audio/banana/       2010-12-10 21:19:54            0\n",
            "hmm-speech-recognition-0.1/audio/banana/banana01.wav 2010-12-10 19:57:54         6918\n",
            "__MACOSX/hmm-speech-recognition-0.1/audio/banana/ 2010-12-15 20:18:02            0\n",
            "__MACOSX/hmm-speech-recognition-0.1/audio/banana/._banana01.wav 2010-12-10 19:57:54           82\n",
            "hmm-speech-recognition-0.1/audio/banana/banana02.wav 2010-12-10 19:58:08         7476\n",
            "__MACOSX/hmm-speech-recognition-0.1/audio/banana/._banana02.wav 2010-12-10 19:58:08           82\n",
            "hmm-speech-recognition-0.1/audio/banana/banana03.wav 2010-12-10 19:58:16         7846\n",
            "__MACOSX/hmm-speech-recognition-0.1/audio/banana/._banana03.wav 2010-12-10 19:58:16           82\n",
            "hmm-speech-recognition-0.1/audio/banana/banana04.wav 2010-12-10 19:58:28         7104\n",
            "__MACOSX/hmm-speech-recognition-0.1/audio/banana/._banana04.wav 2010-12-10 19:58:28           82\n",
            "hmm-speech-recognition-0.1/audio/banana/banana05.wav 2010-12-10 19:58:58         8588\n",
            "__MACOSX/hmm-speech-recognition-0.1/audio/banana/._banana05.wav 2010-12-10 19:58:58           82\n",
            "hmm-speech-recognition-0.1/audio/banana/banana06.wav 2010-12-10 19:59:18         8774\n",
            "__MACOSX/hmm-speech-recognition-0.1/audio/banana/._banana06.wav 2010-12-10 19:59:18           82\n",
            "hmm-speech-recognition-0.1/audio/banana/banana07.wav 2010-12-10 19:59:38         8960\n",
            "__MACOSX/hmm-speech-recognition-0.1/audio/banana/._banana07.wav 2010-12-10 19:59:38           82\n",
            "hmm-speech-recognition-0.1/audio/banana/banana08.wav 2010-12-10 19:59:58         8402\n",
            "__MACOSX/hmm-speech-recognition-0.1/audio/banana/._banana08.wav 2010-12-10 19:59:58           82\n",
            "hmm-speech-recognition-0.1/audio/banana/banana09.wav 2010-12-10 20:00:10         7474\n",
            "__MACOSX/hmm-speech-recognition-0.1/audio/banana/._banana09.wav 2010-12-10 20:00:10           82\n",
            "hmm-speech-recognition-0.1/audio/banana/banana10.wav 2010-12-10 20:00:22         8774\n",
            "__MACOSX/hmm-speech-recognition-0.1/audio/banana/._banana10.wav 2010-12-10 20:00:22           82\n",
            "hmm-speech-recognition-0.1/audio/banana/banana11.wav 2010-12-10 20:00:32         8404\n",
            "__MACOSX/hmm-speech-recognition-0.1/audio/banana/._banana11.wav 2010-12-10 20:00:32           82\n",
            "hmm-speech-recognition-0.1/audio/banana/banana12.wav 2010-12-10 20:00:46         8218\n",
            "__MACOSX/hmm-speech-recognition-0.1/audio/banana/._banana12.wav 2010-12-10 20:00:46           82\n",
            "hmm-speech-recognition-0.1/audio/banana/banana13.wav 2010-12-10 20:00:56         9332\n",
            "__MACOSX/hmm-speech-recognition-0.1/audio/banana/._banana13.wav 2010-12-10 20:00:56           82\n",
            "hmm-speech-recognition-0.1/audio/banana/banana14.wav 2010-12-10 20:01:08         9332\n",
            "__MACOSX/hmm-speech-recognition-0.1/audio/banana/._banana14.wav 2010-12-10 20:01:08           82\n",
            "hmm-speech-recognition-0.1/audio/banana/banana15.wav 2010-12-10 20:01:28         8588\n",
            "__MACOSX/hmm-speech-recognition-0.1/audio/banana/._banana15.wav 2010-12-10 20:01:28           82\n",
            "hmm-speech-recognition-0.1/audio/kiwi/         2010-12-10 21:19:34            0\n",
            "hmm-speech-recognition-0.1/audio/kiwi/kiwi01.wav 2010-12-10 20:11:14         6732\n",
            "__MACOSX/hmm-speech-recognition-0.1/audio/kiwi/ 2010-12-15 20:18:02            0\n",
            "__MACOSX/hmm-speech-recognition-0.1/audio/kiwi/._kiwi01.wav 2010-12-10 20:11:14           82\n",
            "hmm-speech-recognition-0.1/audio/kiwi/kiwi02.wav 2010-12-10 20:11:32         5990\n",
            "__MACOSX/hmm-speech-recognition-0.1/audio/kiwi/._kiwi02.wav 2010-12-10 20:11:32           82\n",
            "hmm-speech-recognition-0.1/audio/kiwi/kiwi03.wav 2010-12-10 20:11:42         6174\n",
            "__MACOSX/hmm-speech-recognition-0.1/audio/kiwi/._kiwi03.wav 2010-12-10 20:11:42           82\n",
            "hmm-speech-recognition-0.1/audio/kiwi/kiwi04.wav 2010-12-10 20:11:50         5802\n",
            "__MACOSX/hmm-speech-recognition-0.1/audio/kiwi/._kiwi04.wav 2010-12-10 20:11:50           82\n",
            "hmm-speech-recognition-0.1/audio/kiwi/kiwi05.wav 2010-12-10 20:12:14         6174\n",
            "__MACOSX/hmm-speech-recognition-0.1/audio/kiwi/._kiwi05.wav 2010-12-10 20:12:14           82\n",
            "hmm-speech-recognition-0.1/audio/kiwi/kiwi06.wav 2010-12-10 20:12:22         6358\n",
            "__MACOSX/hmm-speech-recognition-0.1/audio/kiwi/._kiwi06.wav 2010-12-10 20:12:22           82\n",
            "hmm-speech-recognition-0.1/audio/kiwi/kiwi07.wav 2010-12-10 20:13:00         6916\n",
            "__MACOSX/hmm-speech-recognition-0.1/audio/kiwi/._kiwi07.wav 2010-12-10 20:13:00           82\n",
            "hmm-speech-recognition-0.1/audio/kiwi/kiwi08.wav 2010-12-10 20:13:10         6360\n",
            "__MACOSX/hmm-speech-recognition-0.1/audio/kiwi/._kiwi08.wav 2010-12-10 20:13:10           82\n",
            "hmm-speech-recognition-0.1/audio/kiwi/kiwi09.wav 2010-12-10 20:13:24         6174\n",
            "__MACOSX/hmm-speech-recognition-0.1/audio/kiwi/._kiwi09.wav 2010-12-10 20:13:24           82\n",
            "hmm-speech-recognition-0.1/audio/kiwi/kiwi10.wav 2010-12-10 20:13:40         6360\n",
            "__MACOSX/hmm-speech-recognition-0.1/audio/kiwi/._kiwi10.wav 2010-12-10 20:13:40           82\n",
            "hmm-speech-recognition-0.1/audio/kiwi/kiwi11.wav 2010-12-10 20:15:02         6732\n",
            "__MACOSX/hmm-speech-recognition-0.1/audio/kiwi/._kiwi11.wav 2010-12-10 20:15:02           82\n",
            "hmm-speech-recognition-0.1/audio/kiwi/kiwi12.wav 2010-12-10 20:13:54         7104\n",
            "__MACOSX/hmm-speech-recognition-0.1/audio/kiwi/._kiwi12.wav 2010-12-10 20:13:54           82\n",
            "hmm-speech-recognition-0.1/audio/kiwi/kiwi13.wav 2010-12-10 20:14:14         7104\n",
            "__MACOSX/hmm-speech-recognition-0.1/audio/kiwi/._kiwi13.wav 2010-12-10 20:14:14           82\n",
            "hmm-speech-recognition-0.1/audio/kiwi/kiwi14.wav 2010-12-10 20:14:24         7102\n",
            "__MACOSX/hmm-speech-recognition-0.1/audio/kiwi/._kiwi14.wav 2010-12-10 20:14:24           82\n",
            "hmm-speech-recognition-0.1/audio/kiwi/kiwi15.wav 2010-12-10 20:14:40         7288\n",
            "__MACOSX/hmm-speech-recognition-0.1/audio/kiwi/._kiwi15.wav 2010-12-10 20:14:40           82\n",
            "hmm-speech-recognition-0.1/audio/lime/         2010-12-14 17:06:22            0\n",
            "hmm-speech-recognition-0.1/audio/lime/lime01.wav 2010-12-10 20:06:50         7476\n",
            "__MACOSX/hmm-speech-recognition-0.1/audio/lime/ 2010-12-15 20:18:02            0\n",
            "__MACOSX/hmm-speech-recognition-0.1/audio/lime/._lime01.wav 2010-12-10 20:06:50           82\n",
            "hmm-speech-recognition-0.1/audio/lime/lime02.wav 2010-12-10 20:07:04         6730\n",
            "__MACOSX/hmm-speech-recognition-0.1/audio/lime/._lime02.wav 2010-12-10 20:07:04           82\n",
            "hmm-speech-recognition-0.1/audio/lime/lime03.wav 2010-12-10 20:07:14         7660\n",
            "__MACOSX/hmm-speech-recognition-0.1/audio/lime/._lime03.wav 2010-12-10 20:07:14           82\n",
            "hmm-speech-recognition-0.1/audio/lime/lime04.wav 2010-12-10 20:07:40         7474\n",
            "__MACOSX/hmm-speech-recognition-0.1/audio/lime/._lime04.wav 2010-12-10 20:07:40           82\n",
            "hmm-speech-recognition-0.1/audio/lime/lime05.wav 2010-12-10 20:07:52         7660\n",
            "__MACOSX/hmm-speech-recognition-0.1/audio/lime/._lime05.wav 2010-12-10 20:07:52           82\n",
            "hmm-speech-recognition-0.1/audio/lime/lime06.wav 2010-12-10 20:08:00         7102\n",
            "__MACOSX/hmm-speech-recognition-0.1/audio/lime/._lime06.wav 2010-12-10 20:08:00           82\n",
            "hmm-speech-recognition-0.1/audio/lime/lime07.wav 2010-12-10 20:08:32         6918\n",
            "__MACOSX/hmm-speech-recognition-0.1/audio/lime/._lime07.wav 2010-12-10 20:08:32           82\n",
            "hmm-speech-recognition-0.1/audio/lime/lime08.wav 2010-12-10 20:08:42         6544\n",
            "__MACOSX/hmm-speech-recognition-0.1/audio/lime/._lime08.wav 2010-12-10 20:08:42           82\n",
            "hmm-speech-recognition-0.1/audio/lime/lime09.wav 2010-12-10 20:08:54         7102\n",
            "__MACOSX/hmm-speech-recognition-0.1/audio/lime/._lime09.wav 2010-12-10 20:08:54           82\n",
            "hmm-speech-recognition-0.1/audio/lime/lime10.wav 2010-12-10 20:09:06         6730\n",
            "__MACOSX/hmm-speech-recognition-0.1/audio/lime/._lime10.wav 2010-12-10 20:09:06           82\n",
            "hmm-speech-recognition-0.1/audio/lime/lime11.wav 2010-12-10 20:09:18         7102\n",
            "__MACOSX/hmm-speech-recognition-0.1/audio/lime/._lime11.wav 2010-12-10 20:09:18           82\n",
            "hmm-speech-recognition-0.1/audio/lime/lime12.wav 2010-12-10 20:09:38         7474\n",
            "__MACOSX/hmm-speech-recognition-0.1/audio/lime/._lime12.wav 2010-12-10 20:09:38           82\n",
            "hmm-speech-recognition-0.1/audio/lime/lime13.wav 2010-12-10 20:09:56         6174\n",
            "__MACOSX/hmm-speech-recognition-0.1/audio/lime/._lime13.wav 2010-12-10 20:09:56           82\n",
            "hmm-speech-recognition-0.1/audio/lime/lime14.wav 2010-12-10 20:10:12         7102\n",
            "__MACOSX/hmm-speech-recognition-0.1/audio/lime/._lime14.wav 2010-12-10 20:10:12           82\n",
            "hmm-speech-recognition-0.1/audio/lime/lime15.wav 2010-12-10 20:10:22         6732\n",
            "__MACOSX/hmm-speech-recognition-0.1/audio/lime/._lime15.wav 2010-12-10 20:10:22           82\n",
            "hmm-speech-recognition-0.1/audio/orange/       2010-12-10 21:19:00            0\n",
            "hmm-speech-recognition-0.1/audio/orange/orange01.wav 2010-12-10 19:45:54        12120\n",
            "__MACOSX/hmm-speech-recognition-0.1/audio/orange/ 2010-12-15 20:18:02            0\n",
            "__MACOSX/hmm-speech-recognition-0.1/audio/orange/._orange01.wav 2010-12-10 19:45:54           82\n",
            "hmm-speech-recognition-0.1/audio/orange/orange02.wav 2010-12-10 19:46:10        11932\n",
            "__MACOSX/hmm-speech-recognition-0.1/audio/orange/._orange02.wav 2010-12-10 19:46:10           82\n",
            "hmm-speech-recognition-0.1/audio/orange/orange03.wav 2010-12-10 19:46:30        11004\n",
            "__MACOSX/hmm-speech-recognition-0.1/audio/orange/._orange03.wav 2010-12-10 19:46:30           82\n",
            "hmm-speech-recognition-0.1/audio/orange/orange04.wav 2010-12-10 19:46:44        11934\n",
            "__MACOSX/hmm-speech-recognition-0.1/audio/orange/._orange04.wav 2010-12-10 19:46:44           82\n",
            "hmm-speech-recognition-0.1/audio/orange/orange05.wav 2010-12-10 19:47:00        12490\n",
            "__MACOSX/hmm-speech-recognition-0.1/audio/orange/._orange05.wav 2010-12-10 19:47:00           82\n",
            "hmm-speech-recognition-0.1/audio/orange/orange06.wav 2010-12-10 19:47:12        12118\n",
            "__MACOSX/hmm-speech-recognition-0.1/audio/orange/._orange06.wav 2010-12-10 19:47:12           82\n",
            "hmm-speech-recognition-0.1/audio/orange/orange07.wav 2010-12-10 19:47:28        13234\n",
            "__MACOSX/hmm-speech-recognition-0.1/audio/orange/._orange07.wav 2010-12-10 19:47:28           82\n",
            "hmm-speech-recognition-0.1/audio/orange/orange08.wav 2010-12-10 19:47:42        11934\n",
            "__MACOSX/hmm-speech-recognition-0.1/audio/orange/._orange08.wav 2010-12-10 19:47:42           82\n",
            "hmm-speech-recognition-0.1/audio/orange/orange09.wav 2010-12-10 19:48:04        12118\n",
            "__MACOSX/hmm-speech-recognition-0.1/audio/orange/._orange09.wav 2010-12-10 19:48:04           82\n",
            "hmm-speech-recognition-0.1/audio/orange/orange10.wav 2010-12-10 19:48:30        13420\n",
            "__MACOSX/hmm-speech-recognition-0.1/audio/orange/._orange10.wav 2010-12-10 19:48:30           82\n",
            "hmm-speech-recognition-0.1/audio/orange/orange11.wav 2010-12-10 19:48:40        13976\n",
            "__MACOSX/hmm-speech-recognition-0.1/audio/orange/._orange11.wav 2010-12-10 19:48:40           82\n",
            "hmm-speech-recognition-0.1/audio/orange/orange12.wav 2010-12-10 19:48:54        13790\n",
            "__MACOSX/hmm-speech-recognition-0.1/audio/orange/._orange12.wav 2010-12-10 19:48:54           82\n",
            "hmm-speech-recognition-0.1/audio/orange/orange13.wav 2010-12-10 19:49:06        12490\n",
            "__MACOSX/hmm-speech-recognition-0.1/audio/orange/._orange13.wav 2010-12-10 19:49:06           82\n",
            "hmm-speech-recognition-0.1/audio/orange/orange14.wav 2010-12-10 19:49:18        12676\n",
            "__MACOSX/hmm-speech-recognition-0.1/audio/orange/._orange14.wav 2010-12-10 19:49:18           82\n",
            "hmm-speech-recognition-0.1/audio/orange/orange15.wav 2010-12-10 19:49:36        13048\n",
            "__MACOSX/hmm-speech-recognition-0.1/audio/orange/._orange15.wav 2010-12-10 19:49:36           82\n",
            "hmm-speech-recognition-0.1/audio/peach/        2010-12-10 21:19:40            0\n",
            "hmm-speech-recognition-0.1/audio/peach/peach01.wav 2010-12-10 19:52:18         9888\n",
            "__MACOSX/hmm-speech-recognition-0.1/audio/peach/ 2010-12-15 20:18:02            0\n",
            "__MACOSX/hmm-speech-recognition-0.1/audio/peach/._peach01.wav 2010-12-10 19:52:18           82\n",
            "hmm-speech-recognition-0.1/audio/peach/peach02.wav 2010-12-10 19:52:34        11004\n",
            "__MACOSX/hmm-speech-recognition-0.1/audio/peach/._peach02.wav 2010-12-10 19:52:34           82\n",
            "hmm-speech-recognition-0.1/audio/peach/peach03.wav 2010-12-10 19:52:46        10260\n",
            "__MACOSX/hmm-speech-recognition-0.1/audio/peach/._peach03.wav 2010-12-10 19:52:46           82\n",
            "hmm-speech-recognition-0.1/audio/peach/peach04.wav 2010-12-10 19:53:00        10818\n",
            "__MACOSX/hmm-speech-recognition-0.1/audio/peach/._peach04.wav 2010-12-10 19:53:00           82\n",
            "hmm-speech-recognition-0.1/audio/peach/peach05.wav 2010-12-10 19:53:14        11004\n",
            "__MACOSX/hmm-speech-recognition-0.1/audio/peach/._peach05.wav 2010-12-10 19:53:14           82\n",
            "hmm-speech-recognition-0.1/audio/peach/peach06.wav 2010-12-10 19:53:26        11004\n",
            "__MACOSX/hmm-speech-recognition-0.1/audio/peach/._peach06.wav 2010-12-10 19:53:26           82\n",
            "hmm-speech-recognition-0.1/audio/peach/peach07.wav 2010-12-10 19:53:40        10074\n",
            "__MACOSX/hmm-speech-recognition-0.1/audio/peach/._peach07.wav 2010-12-10 19:53:40           82\n",
            "hmm-speech-recognition-0.1/audio/peach/peach08.wav 2010-12-10 19:53:54        11188\n",
            "__MACOSX/hmm-speech-recognition-0.1/audio/peach/._peach08.wav 2010-12-10 19:53:54           82\n",
            "hmm-speech-recognition-0.1/audio/peach/peach09.wav 2010-12-10 19:54:08        10448\n",
            "__MACOSX/hmm-speech-recognition-0.1/audio/peach/._peach09.wav 2010-12-10 19:54:08           82\n",
            "hmm-speech-recognition-0.1/audio/peach/peach10.wav 2010-12-10 19:54:26         9890\n",
            "__MACOSX/hmm-speech-recognition-0.1/audio/peach/._peach10.wav 2010-12-10 19:54:26           82\n",
            "hmm-speech-recognition-0.1/audio/peach/peach11.wav 2010-12-10 19:54:40        11004\n",
            "__MACOSX/hmm-speech-recognition-0.1/audio/peach/._peach11.wav 2010-12-10 19:54:40           82\n",
            "hmm-speech-recognition-0.1/audio/peach/peach12.wav 2010-12-10 19:55:06        11190\n",
            "__MACOSX/hmm-speech-recognition-0.1/audio/peach/._peach12.wav 2010-12-10 19:55:06           82\n",
            "hmm-speech-recognition-0.1/audio/peach/peach13.wav 2010-12-10 19:55:16        10446\n",
            "__MACOSX/hmm-speech-recognition-0.1/audio/peach/._peach13.wav 2010-12-10 19:55:16           82\n",
            "hmm-speech-recognition-0.1/audio/peach/peach14.wav 2010-12-10 19:55:30        10260\n",
            "__MACOSX/hmm-speech-recognition-0.1/audio/peach/._peach14.wav 2010-12-10 19:55:30           82\n",
            "hmm-speech-recognition-0.1/audio/peach/peach15.wav 2010-12-10 19:55:42        11932\n",
            "__MACOSX/hmm-speech-recognition-0.1/audio/peach/._peach15.wav 2010-12-10 19:55:42           82\n",
            "hmm-speech-recognition-0.1/audio/pineapple/    2010-12-10 21:34:00            0\n",
            "hmm-speech-recognition-0.1/audio/pineapple/pineapple01.wav 2010-12-10 21:29:14         9146\n",
            "__MACOSX/hmm-speech-recognition-0.1/audio/pineapple/ 2010-12-15 20:18:02            0\n",
            "__MACOSX/hmm-speech-recognition-0.1/audio/pineapple/._pineapple01.wav 2010-12-10 21:29:14           82\n",
            "hmm-speech-recognition-0.1/audio/pineapple/pineapple02.wav 2010-12-10 21:29:28         9146\n",
            "__MACOSX/hmm-speech-recognition-0.1/audio/pineapple/._pineapple02.wav 2010-12-10 21:29:28           82\n",
            "hmm-speech-recognition-0.1/audio/pineapple/pineapple03.wav 2010-12-10 21:29:38         9332\n",
            "__MACOSX/hmm-speech-recognition-0.1/audio/pineapple/._pineapple03.wav 2010-12-10 21:29:38           82\n",
            "hmm-speech-recognition-0.1/audio/pineapple/pineapple04.wav 2010-12-10 21:29:50         9702\n",
            "__MACOSX/hmm-speech-recognition-0.1/audio/pineapple/._pineapple04.wav 2010-12-10 21:29:50           82\n",
            "hmm-speech-recognition-0.1/audio/pineapple/pineapple05.wav 2010-12-10 21:30:06         8774\n",
            "__MACOSX/hmm-speech-recognition-0.1/audio/pineapple/._pineapple05.wav 2010-12-10 21:30:06           82\n",
            "hmm-speech-recognition-0.1/audio/pineapple/pineapple06.wav 2010-12-10 21:30:22         9704\n",
            "__MACOSX/hmm-speech-recognition-0.1/audio/pineapple/._pineapple06.wav 2010-12-10 21:30:22           82\n",
            "hmm-speech-recognition-0.1/audio/pineapple/pineapple07.wav 2010-12-10 21:30:34         8960\n",
            "__MACOSX/hmm-speech-recognition-0.1/audio/pineapple/._pineapple07.wav 2010-12-10 21:30:34           82\n",
            "hmm-speech-recognition-0.1/audio/pineapple/pineapple08.wav 2010-12-10 21:30:44         9146\n",
            "__MACOSX/hmm-speech-recognition-0.1/audio/pineapple/._pineapple08.wav 2010-12-10 21:30:44           82\n",
            "hmm-speech-recognition-0.1/audio/pineapple/pineapple09.wav 2010-12-10 21:30:58         8960\n",
            "__MACOSX/hmm-speech-recognition-0.1/audio/pineapple/._pineapple09.wav 2010-12-10 21:30:58           82\n",
            "hmm-speech-recognition-0.1/audio/pineapple/pineapple10.wav 2010-12-10 21:31:22         8960\n",
            "__MACOSX/hmm-speech-recognition-0.1/audio/pineapple/._pineapple10.wav 2010-12-10 21:31:22           82\n",
            "hmm-speech-recognition-0.1/audio/pineapple/pineapple11.wav 2010-12-10 21:31:34         8776\n",
            "__MACOSX/hmm-speech-recognition-0.1/audio/pineapple/._pineapple11.wav 2010-12-10 21:31:34           82\n",
            "hmm-speech-recognition-0.1/audio/pineapple/pineapple12.wav 2010-12-10 21:33:16        10074\n",
            "__MACOSX/hmm-speech-recognition-0.1/audio/pineapple/._pineapple12.wav 2010-12-10 21:33:16           82\n",
            "hmm-speech-recognition-0.1/audio/pineapple/pineapple13.wav 2010-12-10 21:33:28         9890\n",
            "__MACOSX/hmm-speech-recognition-0.1/audio/pineapple/._pineapple13.wav 2010-12-10 21:33:28           82\n",
            "hmm-speech-recognition-0.1/audio/pineapple/pineapple14.wav 2010-12-10 21:33:48         9518\n",
            "__MACOSX/hmm-speech-recognition-0.1/audio/pineapple/._pineapple14.wav 2010-12-10 21:33:48           82\n",
            "hmm-speech-recognition-0.1/audio/pineapple/pineapple15.wav 2010-12-10 21:34:02         9146\n",
            "__MACOSX/hmm-speech-recognition-0.1/audio/pineapple/._pineapple15.wav 2010-12-10 21:34:02           82\n",
            "hmm-speech-recognition-0.1/error_ellipse.m     2010-09-14 22:09:28         8343\n",
            "__MACOSX/hmm-speech-recognition-0.1/._error_ellipse.m 2010-09-14 22:09:28           82\n",
            "hmm-speech-recognition-0.1/extract_features.m  2010-12-15 17:09:08         1268\n",
            "__MACOSX/hmm-speech-recognition-0.1/._extract_features.m 2010-12-15 17:09:08          171\n",
            "hmm-speech-recognition-0.1/load_audio_from_folder.m 2010-12-11 02:22:02          549\n",
            "__MACOSX/hmm-speech-recognition-0.1/._load_audio_from_folder.m 2010-12-11 02:22:02           82\n",
            "hmm-speech-recognition-0.1/main.m              2010-12-14 15:16:14          767\n",
            "__MACOSX/hmm-speech-recognition-0.1/._main.m   2010-12-14 15:16:14           82\n",
            "hmm-speech-recognition-0.1/mk_stochastic.m     2005-04-25 20:30:34          826\n",
            "__MACOSX/hmm-speech-recognition-0.1/._mk_stochastic.m 2005-04-25 20:30:34           82\n",
            "hmm-speech-recognition-0.1/normalise.m         2005-04-25 20:30:36          861\n",
            "__MACOSX/hmm-speech-recognition-0.1/._normalise.m 2005-04-25 20:30:36           82\n",
            "hmm-speech-recognition-0.1/symmetrize.m        2010-12-14 03:02:40           76\n",
            "__MACOSX/hmm-speech-recognition-0.1/._symmetrize.m 2010-12-14 03:02:40           82\n",
            "hmm-speech-recognition-0.1/Vocabulary.m        2010-12-14 14:47:44         1746\n",
            "__MACOSX/hmm-speech-recognition-0.1/._Vocabulary.m 2010-12-14 14:47:44           82\n",
            "hmm-speech-recognition-0.1/Word.m              2010-12-15 19:34:28         6078\n",
            "__MACOSX/hmm-speech-recognition-0.1/._Word.m   2010-12-15 19:34:28          171\n",
            "Extracting all the files now...\n",
            "Done!\n"
          ]
        }
      ]
    },
    {
      "cell_type": "markdown",
      "source": [
        "\n",
        "**Print the words uttered in the given dataset.**"
      ],
      "metadata": {
        "id": "pSszjt_JwaLd"
      }
    },
    {
      "cell_type": "code",
      "source": [
        "\n",
        "fpaths = []\n",
        "labels = []\n",
        "spoken = []\n",
        "audio= '/content/drive/MyDrive/Colab Notebooks/DATA/speech-e8/hmm-speech-recognition-0.1/audio'\n",
        "for f in os.listdir(audio):\n",
        "    for w in os.listdir(audio+'/'+f):\n",
        "        fpaths.append(audio +'/'+ f + '/' + w)\n",
        "        labels.append(f)\n",
        "        if f not in spoken:\n",
        "            spoken.append(f)\n",
        "print('Words spoken:', spoken)"
      ],
      "metadata": {
        "colab": {
          "base_uri": "https://localhost:8080/"
        },
        "id": "3KAXsGVq54BM",
        "outputId": "ddf52344-c824-49fe-913a-6da1131ee49f"
      },
      "execution_count": 5,
      "outputs": [
        {
          "output_type": "stream",
          "name": "stdout",
          "text": [
            "Words spoken: ['apple', 'banana', 'kiwi', 'lime', 'orange', 'peach', 'pineapple']\n"
          ]
        }
      ]
    },
    {
      "cell_type": "markdown",
      "source": [
        "**Extract all the files in the dataset and convert it into a matrix.**"
      ],
      "metadata": {
        "id": "ljI9n1z9wld5"
      }
    },
    {
      "cell_type": "code",
      "source": [
        "\n",
        "from scipy.io import wavfile\n",
        "\n",
        "data = np.zeros((len(fpaths), 32000))\n",
        "maxsize = -1\n",
        "for n,file in enumerate(fpaths):\n",
        "    _, d = wavfile.read(file)\n",
        "    data[n, :d.shape[0]] = d\n",
        "    if d.shape[0] > maxsize:\n",
        "        maxsize = d.shape[0]\n",
        "data = data[:, :maxsize]\n",
        "\n",
        "#Each sample file is one row in data, and has one entry in labels\n",
        "print('Number of files total:', data.shape[0])\n",
        "all_labels = np.zeros(data.shape[0])\n",
        "for n, l in enumerate(set(labels)):\n",
        "    all_labels[np.array([i for i, _ in enumerate(labels) if _ == l])] = n\n",
        "    \n",
        "print('Labels and label indices', all_labels)"
      ],
      "metadata": {
        "colab": {
          "base_uri": "https://localhost:8080/"
        },
        "id": "l1Xof_1-7gv9",
        "outputId": "61daf26c-ebe2-4411-ed31-4c8216175b66"
      },
      "execution_count": 6,
      "outputs": [
        {
          "output_type": "stream",
          "name": "stdout",
          "text": [
            "Number of files total: 105\n",
            "Labels and label indices [0. 0. 0. 0. 0. 0. 0. 0. 0. 0. 0. 0. 0. 0. 0. 5. 5. 5. 5. 5. 5. 5. 5. 5.\n",
            " 5. 5. 5. 5. 5. 5. 2. 2. 2. 2. 2. 2. 2. 2. 2. 2. 2. 2. 2. 2. 2. 1. 1. 1.\n",
            " 1. 1. 1. 1. 1. 1. 1. 1. 1. 1. 1. 1. 4. 4. 4. 4. 4. 4. 4. 4. 4. 4. 4. 4.\n",
            " 4. 4. 4. 3. 3. 3. 3. 3. 3. 3. 3. 3. 3. 3. 3. 3. 3. 3. 6. 6. 6. 6. 6. 6.\n",
            " 6. 6. 6. 6. 6. 6. 6. 6. 6.]\n"
          ]
        }
      ]
    },
    {
      "cell_type": "markdown",
      "source": [
        "**Defining a Function \"STFT\", which takes fft size and overlap_pct.**"
      ],
      "metadata": {
        "id": "q-SQmNnFw0V5"
      }
    },
    {
      "cell_type": "code",
      "source": [
        "# Defining the STFT function \n",
        "def stft(x, fftsize=64, overlap_pct=.5):   \n",
        "    hop = int(fftsize * (1 - overlap_pct))\n",
        "    w = scipy.hanning(fftsize + 1)[:-1]    \n",
        "    raw = np.array([np.fft.rfft(w * x[i:i + fftsize]) for i in range(0, len(x) - fftsize, hop)])\n",
        "    return raw[:, :(fftsize // 2)]"
      ],
      "metadata": {
        "id": "6PkwsVZd7l0S"
      },
      "execution_count": 7,
      "outputs": []
    },
    {
      "cell_type": "markdown",
      "source": [
        "**Plot the waveform for the word uttered, against Amplitude and Time samples.**"
      ],
      "metadata": {
        "id": "sc58P0mxxLjC"
      }
    },
    {
      "cell_type": "code",
      "source": [
        "# Plotting the STFT\n",
        "import matplotlib.pyplot as plt\n",
        "plt.plot(data[0, :], color='red')\n",
        "plt.title('Timeseries example for %s'%labels[0])\n",
        "plt.xlim(0, 3500)\n",
        "plt.xlabel('Time (samples)')\n",
        "plt.ylabel('Amplitude (signed 16 bit)')\n",
        "plt.figure()\n",
        "\n",
        "\n",
        "log_freq = 20 * np.log(np.abs(stft(data[0, :])) + 1)\n",
        "print(log_freq.shape)\n",
        "plt.imshow(log_freq, cmap='gray', interpolation=None)\n",
        "plt.xlabel('Freq (bin)')\n",
        "plt.ylabel('Time (overlapped frames)')\n",
        "plt.ylim(log_freq.shape[1])\n",
        "plt.title('PSD of %s example'%labels[0])"
      ],
      "metadata": {
        "colab": {
          "base_uri": "https://localhost:8080/",
          "height": 662
        },
        "id": "P4youvc_7rk0",
        "outputId": "a87b7f6d-0b66-4d47-ab8a-48dcc96d76f5"
      },
      "execution_count": 8,
      "outputs": [
        {
          "output_type": "stream",
          "name": "stdout",
          "text": [
            "(216, 32)\n"
          ]
        },
        {
          "output_type": "stream",
          "name": "stderr",
          "text": [
            "/usr/local/lib/python3.7/dist-packages/ipykernel_launcher.py:4: DeprecationWarning: scipy.hanning is deprecated and will be removed in SciPy 2.0.0, use numpy.hanning instead\n",
            "  after removing the cwd from sys.path.\n"
          ]
        },
        {
          "output_type": "execute_result",
          "data": {
            "text/plain": [
              "Text(0.5, 1.0, 'PSD of apple example')"
            ]
          },
          "metadata": {},
          "execution_count": 8
        },
        {
          "output_type": "display_data",
          "data": {
            "text/plain": [
              "<Figure size 432x288 with 1 Axes>"
            ],
            "image/png": "[encoded data removed]"
          },
          "metadata": {
            "needs_background": "light"
          }
        },
        {
          "output_type": "display_data",
          "data": {
            "text/plain": [
              "<Figure size 432x288 with 1 Axes>"
            ],
            "image/png": "[encoded data removed]"
          },
          "metadata": {
            "needs_background": "light"
          }
        }
      ]
    },
    {
      "cell_type": "markdown",
      "source": [
        "**Function which is used to extract MFCC features, which takes file as input and returns squeezed version of numpy array of flattened feature vectors.**"
      ],
      "metadata": {
        "id": "s-fXrDxHxgYp"
      }
    },
    {
      "cell_type": "code",
      "source": [
        "# function to extract MFCC features\n",
        "def get_mfcc_features(file):\n",
        "    temp_feats = list()\n",
        "    try:\n",
        "          mfcc = librosa.feature.mfcc(file, sr=16000, n_mfcc=13)                # extract the mfcc features\n",
        "          temp_feats.append(mfcc)                                               # flattening to get a single feature vector\n",
        "    except:\n",
        "          pass\n",
        "    return np.squeeze(np.array(temp_feats))"
      ],
      "metadata": {
        "id": "lhJCVGf57wSC"
      },
      "execution_count": 9,
      "outputs": []
    },
    {
      "cell_type": "markdown",
      "source": [
        "**Extracting MFCC Features for all the files, whereas earlier we did only for a single file.**"
      ],
      "metadata": {
        "id": "Lo3lX7ViyAVW"
      }
    },
    {
      "cell_type": "code",
      "source": [
        "# Extracting the MFCC for all the audio files\n",
        "all_obs = []\n",
        "for i in range(data.shape[0]):\n",
        "    obs = []\n",
        "    for r in range(data.shape[0]):\n",
        "        t = get_mfcc_features(data[r,: ])\n",
        "        obs.append(t.copy())\n",
        "    if i % 10 == 0:\n",
        "        print(\"Processed obs %s\" % i)\n",
        "     \n",
        "all_obs = np.atleast_3d(obs)"
      ],
      "metadata": {
        "colab": {
          "base_uri": "https://localhost:8080/"
        },
        "id": "W_td3PFI713w",
        "outputId": "52f99928-edd7-4a24-f61f-498d315a2c59"
      },
      "execution_count": 10,
      "outputs": [
        {
          "output_type": "stream",
          "name": "stdout",
          "text": [
            "Processed obs 0\n",
            "Processed obs 10\n",
            "Processed obs 20\n",
            "Processed obs 30\n",
            "Processed obs 40\n",
            "Processed obs 50\n",
            "Processed obs 60\n",
            "Processed obs 70\n",
            "Processed obs 80\n",
            "Processed obs 90\n",
            "Processed obs 100\n"
          ]
        }
      ]
    },
    {
      "cell_type": "markdown",
      "source": [
        "**Implementation of GMM-HMM**"
      ],
      "metadata": {
        "id": "AmgO-7BZyNEw"
      }
    },
    {
      "cell_type": "code",
      "source": [
        "\n",
        "import scipy.stats as st\n",
        "import numpy as np\n",
        "\n",
        "class gmmhmm:\n",
        "    \n",
        "    def __init__(self, n_states):\n",
        "        self.n_states = n_states\n",
        "        self.random_state = np.random.RandomState(296)\n",
        "        \n",
        "        #Normalize random initial state\n",
        "        self.prior = self._normalize(self.random_state.rand(self.n_states, 1))\n",
        "        self.A = self._stochasticize(self.random_state.rand(self.n_states, self.n_states))\n",
        "        \n",
        "        self.mu = None\n",
        "        self.covs = None\n",
        "        self.n_dims = None\n",
        "           \n",
        "    def _forward(self, B):\n",
        "        log_likelihood = 0.\n",
        "        T = B.shape[1]\n",
        "        alpha = np.zeros(B.shape)\n",
        "        for t in range(T):\n",
        "            if t == 0:\n",
        "                alpha[:, t] = B[:, t] * self.prior.ravel()\n",
        "            else:\n",
        "                alpha[:, t] = B[:, t] * np.dot(self.A.T, alpha[:, t - 1])\n",
        "         \n",
        "            alpha_sum = np.sum(alpha[:, t])\n",
        "            alpha[:, t] /= alpha_sum\n",
        "            log_likelihood = log_likelihood + np.log(alpha_sum)\n",
        "        return log_likelihood, alpha\n",
        "    \n",
        "    def _backward(self, B):\n",
        "        T = B.shape[1]\n",
        "        beta = np.zeros(B.shape);\n",
        "           \n",
        "        beta[:, -1] = np.ones(B.shape[0])\n",
        "            \n",
        "        for t in range(T - 1)[::-1]:\n",
        "            beta[:, t] = np.dot(self.A, (B[:, t + 1] * beta[:, t + 1]))\n",
        "            beta[:, t] /= np.sum(beta[:, t])\n",
        "        return beta\n",
        "    \n",
        "    def _state_likelihood(self, obs):\n",
        "        obs = np.atleast_2d(obs)\n",
        "        B = np.zeros((self.n_states, obs.shape[1]))\n",
        "        for s in range(self.n_states):\n",
        "            #Needs scipy 0.14\n",
        "            np.random.seed(self.random_state.randint(1))\n",
        "            B[s, :] = st.multivariate_normal.pdf(\n",
        "                obs.T, mean=self.mu[:, s].T, cov=self.covs[:, :, s].T)\n",
        "            #This function can (and will!) return values >> 1\n",
        "            \n",
        "            #Key line: \"Probabilities have to be less than 1,\n",
        "            #Densities can be anything, even infinite (at individual points).\"\n",
        "            #This is evaluating the density at individual points...\n",
        "        return B\n",
        "    \n",
        "    def _normalize(self, x):\n",
        "        return (x + (x == 0)) / np.sum(x)\n",
        "    \n",
        "    def _stochasticize(self, x):\n",
        "        return (x + (x == 0)) / np.sum(x, axis=1)\n",
        "    \n",
        "    def _em_init(self, obs):\n",
        "        #Using this _em_init function allows for less required constructor args\n",
        "        if self.n_dims is None:\n",
        "            self.n_dims = obs.shape[0]\n",
        "        if self.mu is None:\n",
        "            subset = self.random_state.choice(np.arange(self.n_dims), size=self.n_states, replace=False)\n",
        "            self.mu = obs[:,subset]\n",
        "        if self.covs is None:\n",
        "            self.covs = np.zeros((self.n_dims, self.n_dims, self.n_states))\n",
        "            self.covs += np.diag(np.diag(np.cov(obs)))[:, :, None]\n",
        "        return self\n",
        "    \n",
        "    def _em_step(self, obs): \n",
        "        obs = np.atleast_2d(obs)\n",
        "        B = self._state_likelihood(obs)\n",
        "        T = obs.shape[1]\n",
        "        \n",
        "        log_likelihood, alpha = self._forward(B)\n",
        "        beta = self._backward(B)\n",
        "        \n",
        "        xi_sum = np.zeros((self.n_states, self.n_states))\n",
        "        gamma = np.zeros((self.n_states, T))\n",
        "        \n",
        "        for t in range(T - 1):\n",
        "            partial_sum = self.A * np.dot(alpha[:, t], (beta[:, t] * B[:, t + 1]).T)\n",
        "            xi_sum += self._normalize(partial_sum)\n",
        "            partial_g = alpha[:, t] * beta[:, t]\n",
        "            gamma[:, t] = self._normalize(partial_g)\n",
        "              \n",
        "        partial_g = alpha[:, -1] * beta[:, -1]\n",
        "        gamma[:, -1] = self._normalize(partial_g)\n",
        "        \n",
        "        expected_prior = gamma[:, 0]\n",
        "        expected_A = self._stochasticize(xi_sum)\n",
        "        \n",
        "        expected_mu = np.zeros((self.n_dims, self.n_states))\n",
        "        expected_covs = np.zeros((self.n_dims, self.n_dims, self.n_states))\n",
        "        \n",
        "        gamma_state_sum = np.sum(gamma, axis=1)\n",
        "        #Set zeros to 1 before dividing\n",
        "        gamma_state_sum = gamma_state_sum + (gamma_state_sum == 0)\n",
        "        \n",
        "        for s in range(self.n_states):\n",
        "            gamma_obs = obs * gamma[s, :]\n",
        "            expected_mu[:, s] = np.sum(gamma_obs, axis=1) / gamma_state_sum[s]\n",
        "            partial_covs = np.dot(gamma_obs, obs.T) / gamma_state_sum[s] - np.dot(expected_mu[:, s], expected_mu[:, s].T)\n",
        "            #Symmetrize\n",
        "            partial_covs = np.triu(partial_covs) + np.triu(partial_covs).T - np.diag(partial_covs)\n",
        "        \n",
        "        #Ensure positive semidefinite by adding diagonal loading\n",
        "        expected_covs += .01 * np.eye(self.n_dims)[:, :, None]\n",
        "        \n",
        "        self.prior = expected_prior\n",
        "        self.mu = expected_mu\n",
        "        self.covs = expected_covs\n",
        "        self.A = expected_A\n",
        "        return log_likelihood\n",
        "    \n",
        "    def fit(self, obs, n_iter=15):\n",
        "        #Support for 2D and 3D arrays\n",
        "        #2D should be n_features, n_dims\n",
        "        #3D should be n_examples, n_features, n_dims\n",
        "        #For example, with 6 features per speech segment, 105 different words\n",
        "        #this array should be size\n",
        "        #(105, 6, X) where X is the number of frames with features extracted\n",
        "        #For a single example file, the array should be size (6, X)\n",
        "        if len(obs.shape) == 2:\n",
        "            for i in range(n_iter):\n",
        "                self._em_init(obs)\n",
        "                log_likelihood = self._em_step(obs)\n",
        "        elif len(obs.shape) == 3:\n",
        "            count = obs.shape[0]\n",
        "            for n in range(count):\n",
        "                for i in range(n_iter):\n",
        "                    self._em_init(obs[n, :, :])\n",
        "                    log_likelihood = self._em_step(obs[n, :, :])\n",
        "        return self\n",
        "    \n",
        "    def transform(self, obs):\n",
        "        #Support for 2D and 3D arrays\n",
        "        #2D should be n_features, n_dims\n",
        "        #3D should be n_examples, n_features, n_dims\n",
        "        #For example, with 6 features per speech segment, 105 different words\n",
        "        #this array should be size\n",
        "        #(105, 6, X) where X is the number of frames with features extracted\n",
        "        #For a single example file, the array should be size (6, X)\n",
        "        if len(obs.shape) == 2:\n",
        "            B = self._state_likelihood(obs)\n",
        "            log_likelihood, _ = self._forward(B)\n",
        "            return log_likelihood\n",
        "        elif len(obs.shape) == 3:\n",
        "            count = obs.shape[0]\n",
        "            out = np.zeros((count,))\n",
        "            for n in range(count):\n",
        "                B = self._state_likelihood(obs[n, :, :])\n",
        "                log_likelihood, _ = self._forward(B)\n",
        "                out[n] = log_likelihood\n",
        "            return out\n",
        "\n",
        "if __name__ == \"__main__\":\n",
        "    rstate = np.random.RandomState(0)\n",
        "    t1 = np.ones((4, 40)) + .001 * rstate.rand(4, 40)\n",
        "    t1 /= t1.sum(axis=0)\n",
        "    t2 = rstate.rand(*t1.shape)\n",
        "    t2 /= t2.sum(axis=0)\n",
        "    \n",
        "    m1 = gmmhmm(2)\n",
        "    m1.fit(t1)\n",
        "    m2 = gmmhmm(2)\n",
        "    m2.fit(t2)\n",
        "    \n",
        "    m1t1 = m1.transform(t1)\n",
        "    m2t1 = m2.transform(t1)\n",
        "    print(\"Likelihoods for test set 1\")\n",
        "    print(\"M1:\", m1t1)\n",
        "    print(\"M2:\", m2t1)\n",
        "    print(\"Prediction for test set 1\")\n",
        "    print(\"Model\", np.argmax([m1t1, m2t1]) + 1)\n",
        "    print()\n",
        "    \n",
        "    m1t2 = m1.transform(t2)\n",
        "    m2t2 = m2.transform(t2)\n",
        "    print(\"Likelihoods for test set 2\")\n",
        "    print(\"M1:\", m1t2)\n",
        "    print(\"M2:\", m2t2)\n",
        "    print(\"Prediction for test set 2\")\n",
        "    print(\"Model\", np.argmax([m1t2, m2t2]) + 1)"
      ],
      "metadata": {
        "colab": {
          "base_uri": "https://localhost:8080/"
        },
        "id": "nXGp1ekO757R",
        "outputId": "542fef0e-d0b7-4ce9-8485-76b1e265fd09"
      },
      "execution_count": 16,
      "outputs": [
        {
          "output_type": "stream",
          "name": "stdout",
          "text": [
            "Likelihoods for test set 1\n",
            "M1: 225.12630156124433\n",
            "M2: 216.69368412318693\n",
            "Prediction for test set 1\n",
            "Model 1\n",
            "\n",
            "Likelihoods for test set 2\n",
            "M1: 36.93172704100051\n",
            "M2: 37.87947782892246\n",
            "Prediction for test set 2\n",
            "Model 2\n"
          ]
        }
      ]
    },
    {
      "cell_type": "markdown",
      "source": [
        "**Splitting data into Train and Test sets.**"
      ],
      "metadata": {
        "id": "zPPlSKJfyeQh"
      }
    },
    {
      "cell_type": "code",
      "source": [
        "# Train and test split\n",
        "from sklearn.model_selection import train_test_split\n",
        "X_train, X_test, y_train, y_test = train_test_split( all_obs, all_labels, test_size=0.1, random_state=256)\n",
        "\n",
        "\n",
        "# Printing the size of training and testing datasets\n",
        "print('Size of training matrix:', X_train.shape)\n",
        "print('Size of testing matrix:', X_test.shape)"
      ],
      "metadata": {
        "colab": {
          "base_uri": "https://localhost:8080/"
        },
        "id": "q8ygMezK8UZn",
        "outputId": "dc7a95bc-f7ba-442b-a71f-e98fc609d517"
      },
      "execution_count": 18,
      "outputs": [
        {
          "output_type": "stream",
          "name": "stdout",
          "text": [
            "Size of training matrix: (94, 13, 14)\n",
            "Size of testing matrix: (11, 13, 14)\n"
          ]
        }
      ]
    },
    {
      "cell_type": "markdown",
      "source": [
        "**Training the model using GMM-HMM.**\n",
        "\n",
        "****\n",
        "\n",
        "**Calculating the Test Accuracy**"
      ],
      "metadata": {
        "id": "KRO-CUkDysJh"
      }
    },
    {
      "cell_type": "code",
      "source": [
        "# training and testing GMM-HMM\n",
        "ys = set(all_labels)\n",
        "ms = [gmmhmm(11) for y in ys]\n",
        "m = [m.fit(X_train[y_train == y, :, :]) for m, y in zip(ms, ys)]\n",
        "ps = [m.transform(X_test) for m in ms]\n",
        "res = np.vstack(ps)\n",
        "predicted_labels = np.argmax(res, axis=0)\n",
        "missed = (predicted_labels != y_test)\n",
        "print('Test accuracy: %.2f percent' % (100 * (1 - np.mean(missed))))"
      ],
      "metadata": {
        "colab": {
          "base_uri": "https://localhost:8080/"
        },
        "id": "ZXdti5WL8YSG",
        "outputId": "e3691411-20a2-40e8-c0df-dd5cff822f95"
      },
      "execution_count": 19,
      "outputs": [
        {
          "output_type": "stream",
          "name": "stderr",
          "text": [
            "/usr/local/lib/python3.7/dist-packages/ipykernel_launcher.py:30: RuntimeWarning: invalid value encountered in true_divide\n",
            "/usr/local/lib/python3.7/dist-packages/ipykernel_launcher.py:31: RuntimeWarning: divide by zero encountered in log\n",
            "/usr/local/lib/python3.7/dist-packages/ipykernel_launcher.py:42: RuntimeWarning: invalid value encountered in true_divide\n"
          ]
        },
        {
          "output_type": "stream",
          "name": "stdout",
          "text": [
            "Test accuracy: 18.18 percent\n"
          ]
        }
      ]
    },
    {
      "cell_type": "markdown",
      "source": [
        "**Plotting the Confusion matrix, to find any misclassifications,if present.**"
      ],
      "metadata": {
        "id": "OqnJMD1rzEVi"
      }
    },
    {
      "cell_type": "code",
      "source": [
        "# plotting confusion matrix for finding the unsual pattern in missclassification.\n",
        "from sklearn.metrics import confusion_matrix,ConfusionMatrixDisplay\n",
        "cm = confusion_matrix(y_test, predicted_labels)\n",
        "cm_display = ConfusionMatrixDisplay(confusion_matrix = cm,display_labels=['apple', 'banana', 'kiwi', 'lime', 'orange', 'peach', 'pineapple'])\n",
        "cm_display.plot()\n",
        "ax = plt.gca()\n",
        "_ = ax.set_xticklabels([\" \"] + [l[:2] for l in spoken])\n",
        "_ = ax.set_yticklabels([\" \"] + spoken)\n",
        "plt.title('Confusion matrix, single speaker')\n",
        "plt.ylabel('True label')\n",
        "plt.xlabel('Predicted label')\n",
        "plt.show()"
      ],
      "metadata": {
        "colab": {
          "base_uri": "https://localhost:8080/",
          "height": 295
        },
        "id": "iQLI7ffZ8dTM",
        "outputId": "caf81fbb-d3ad-48e0-ca0d-0d252ecc07e6"
      },
      "execution_count": 14,
      "outputs": [
        {
          "output_type": "display_data",
          "data": {
            "text/plain": [
              "<Figure size 432x288 with 2 Axes>"
            ],
            "image/png": "[encoded data removed]"
          },
          "metadata": {
            "needs_background": "light"
          }
        }
      ]
    },
    {
      "cell_type": "markdown",
      "source": [
        "**INFERENCE:**\n",
        "\n",
        "**By considering MFCC as features for model (GMM-HMM) a test accuracy of 18.18% is obtained.\n",
        "confusion matrix is also plotted for the same, which helps us to know the misclassifications present during training if any.**\n",
        "\n",
        "**So, it is obivious that we can use MFCC as model features effectively for Speech recognition.**\n",
        "\n"
      ],
      "metadata": {
        "id": "zkwuauiz2eAU"
      }
    }
  ]
}